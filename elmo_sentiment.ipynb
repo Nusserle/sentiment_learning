{
 "cells": [
  {
   "cell_type": "markdown",
   "metadata": {
    "colab_type": "text",
    "id": "_M4JcO2m_HJf"
   },
   "source": [
    "## Sentiment Analysis on  [Sentiment140](http://help.sentiment140.com/for-students). \n",
    "Sentiment140 is an automatically retrieved and sentiment tagged dataset from Twitter. The dataset was created by [Go et al.](https://cs.stanford.edu/people/alecmgo/papers/TwitterDistantSupervision09.pdf) and uses emoticons to automatically classify the sentiment in a tweet and therefore provides a resource of 1.600.000 polarity annotated tweets. In the following we implemented a neural network trained on a subset of these tweets aiming to correctly identify its polarity. For this task we used  the [ELMo](https://github.com/HIT-SCIR/ELMoForManyLangs) word embedding vectors to represent our tweets numerically in a semantic concept space. "
   ]
  },
  {
   "cell_type": "markdown",
   "metadata": {
    "colab_type": "text",
    "id": "N73feXO0B1dm"
   },
   "source": [
    "**Imports**"
   ]
  },
  {
   "cell_type": "code",
   "execution_count": 2,
   "metadata": {
    "colab": {},
    "colab_type": "code",
    "id": "FUZ4J5iVC8BY"
   },
   "outputs": [
    {
     "name": "stderr",
     "output_type": "stream",
     "text": [
      "c:\\users\\tobias.nusser\\appdata\\local\\programs\\python\\python37\\lib\\site-packages\\tensorflow\\python\\framework\\dtypes.py:516: FutureWarning: Passing (type, 1) or '1type' as a synonym of type is deprecated; in a future version of numpy, it will be understood as (type, (1,)) / '(1,)type'.\n",
      "  _np_qint8 = np.dtype([(\"qint8\", np.int8, 1)])\n",
      "c:\\users\\tobias.nusser\\appdata\\local\\programs\\python\\python37\\lib\\site-packages\\tensorflow\\python\\framework\\dtypes.py:517: FutureWarning: Passing (type, 1) or '1type' as a synonym of type is deprecated; in a future version of numpy, it will be understood as (type, (1,)) / '(1,)type'.\n",
      "  _np_quint8 = np.dtype([(\"quint8\", np.uint8, 1)])\n",
      "c:\\users\\tobias.nusser\\appdata\\local\\programs\\python\\python37\\lib\\site-packages\\tensorflow\\python\\framework\\dtypes.py:518: FutureWarning: Passing (type, 1) or '1type' as a synonym of type is deprecated; in a future version of numpy, it will be understood as (type, (1,)) / '(1,)type'.\n",
      "  _np_qint16 = np.dtype([(\"qint16\", np.int16, 1)])\n",
      "c:\\users\\tobias.nusser\\appdata\\local\\programs\\python\\python37\\lib\\site-packages\\tensorflow\\python\\framework\\dtypes.py:519: FutureWarning: Passing (type, 1) or '1type' as a synonym of type is deprecated; in a future version of numpy, it will be understood as (type, (1,)) / '(1,)type'.\n",
      "  _np_quint16 = np.dtype([(\"quint16\", np.uint16, 1)])\n",
      "c:\\users\\tobias.nusser\\appdata\\local\\programs\\python\\python37\\lib\\site-packages\\tensorflow\\python\\framework\\dtypes.py:520: FutureWarning: Passing (type, 1) or '1type' as a synonym of type is deprecated; in a future version of numpy, it will be understood as (type, (1,)) / '(1,)type'.\n",
      "  _np_qint32 = np.dtype([(\"qint32\", np.int32, 1)])\n",
      "c:\\users\\tobias.nusser\\appdata\\local\\programs\\python\\python37\\lib\\site-packages\\tensorflow\\python\\framework\\dtypes.py:525: FutureWarning: Passing (type, 1) or '1type' as a synonym of type is deprecated; in a future version of numpy, it will be understood as (type, (1,)) / '(1,)type'.\n",
      "  np_resource = np.dtype([(\"resource\", np.ubyte, 1)])\n",
      "c:\\users\\tobias.nusser\\appdata\\local\\programs\\python\\python37\\lib\\site-packages\\tensorboard\\compat\\tensorflow_stub\\dtypes.py:541: FutureWarning: Passing (type, 1) or '1type' as a synonym of type is deprecated; in a future version of numpy, it will be understood as (type, (1,)) / '(1,)type'.\n",
      "  _np_qint8 = np.dtype([(\"qint8\", np.int8, 1)])\n",
      "c:\\users\\tobias.nusser\\appdata\\local\\programs\\python\\python37\\lib\\site-packages\\tensorboard\\compat\\tensorflow_stub\\dtypes.py:542: FutureWarning: Passing (type, 1) or '1type' as a synonym of type is deprecated; in a future version of numpy, it will be understood as (type, (1,)) / '(1,)type'.\n",
      "  _np_quint8 = np.dtype([(\"quint8\", np.uint8, 1)])\n",
      "c:\\users\\tobias.nusser\\appdata\\local\\programs\\python\\python37\\lib\\site-packages\\tensorboard\\compat\\tensorflow_stub\\dtypes.py:543: FutureWarning: Passing (type, 1) or '1type' as a synonym of type is deprecated; in a future version of numpy, it will be understood as (type, (1,)) / '(1,)type'.\n",
      "  _np_qint16 = np.dtype([(\"qint16\", np.int16, 1)])\n",
      "c:\\users\\tobias.nusser\\appdata\\local\\programs\\python\\python37\\lib\\site-packages\\tensorboard\\compat\\tensorflow_stub\\dtypes.py:544: FutureWarning: Passing (type, 1) or '1type' as a synonym of type is deprecated; in a future version of numpy, it will be understood as (type, (1,)) / '(1,)type'.\n",
      "  _np_quint16 = np.dtype([(\"quint16\", np.uint16, 1)])\n",
      "c:\\users\\tobias.nusser\\appdata\\local\\programs\\python\\python37\\lib\\site-packages\\tensorboard\\compat\\tensorflow_stub\\dtypes.py:545: FutureWarning: Passing (type, 1) or '1type' as a synonym of type is deprecated; in a future version of numpy, it will be understood as (type, (1,)) / '(1,)type'.\n",
      "  _np_qint32 = np.dtype([(\"qint32\", np.int32, 1)])\n",
      "c:\\users\\tobias.nusser\\appdata\\local\\programs\\python\\python37\\lib\\site-packages\\tensorboard\\compat\\tensorflow_stub\\dtypes.py:550: FutureWarning: Passing (type, 1) or '1type' as a synonym of type is deprecated; in a future version of numpy, it will be understood as (type, (1,)) / '(1,)type'.\n",
      "  np_resource = np.dtype([(\"resource\", np.ubyte, 1)])\n",
      "Using TensorFlow backend.\n"
     ]
    }
   ],
   "source": [
    "import os\n",
    "import random\n",
    "\n",
    "import tensorflow as tf\n",
    "from tensorflow import keras\n",
    "from keras import models\n",
    "from keras import layers\n",
    "from keras import optimizers\n",
    "from keras import losses\n",
    "from keras import metrics\n",
    "import numpy as np\n",
    "import matplotlib.pyplot as plt\n",
    "import csv\n",
    "import re\n",
    "import nltk\n",
    "from elmoformanylangs import Embedder"
   ]
  },
  {
   "cell_type": "markdown",
   "metadata": {
    "colab_type": "text",
    "id": "KmuPGzlqDBxn"
   },
   "source": [
    "**Functions**"
   ]
  },
  {
   "cell_type": "code",
   "execution_count": 3,
   "metadata": {
    "colab": {},
    "colab_type": "code",
    "id": "a8P9CTPQ-8Ff",
    "outputId": "0b0e0230-9e5f-47e8-e372-dda100318d1e",
    "scrolled": true
   },
   "outputs": [],
   "source": [
    "def read_in(path_to_file):\n",
    "    \"\"\"\n",
    "    Reads in training and test data and removes all neutral tweets\n",
    "    from test data because the training data lacks neutral tagged tweets.\n",
    "    Due to hardware restrictions we used only < 1/100th of the available \n",
    "    training dataset (14.000 tweets)\n",
    "    \"\"\"\n",
    "    out = []\n",
    "    with open(path_to_file) as csv_file:\n",
    "        csv_reader = csv.reader(csv_file, delimiter=',')\n",
    "        for row in csv_reader:\n",
    "            if not row[0] == \"2\":\n",
    "                out.append([row[0], row[5]])\n",
    "        random.shuffle(out)\n",
    "    return out[:150000]\n",
    "\n",
    "\n",
    "def preprocess(data):\n",
    "    \"\"\"\n",
    "    Preprocesses and tokenizes data\n",
    "    \"\"\"\n",
    "    label = []\n",
    "    tweet = []\n",
    "    print(\"Preprocessing...\")\n",
    "    for row in data:\n",
    "        cleaned = clean_regex(row[1].lower())\n",
    "        if cleaned.__len__() > 1:\n",
    "            if row[0] == \"0\":\n",
    "                label.append(0)\n",
    "            else:\n",
    "                label.append(1)\n",
    "            tokenized = nltk.word_tokenize(cleaned)\n",
    "            # pos_tagged = nltk.pos_tag(tokenized)\n",
    "            tweet.append(tokenized)\n",
    "    print(\"Done\")\n",
    "    return tweet, label\n",
    "\n",
    "\n",
    "def clean_regex(tweet):\n",
    "    \"\"\"\n",
    "    Regex that removes links to other users, and all hyperlink mentions\n",
    "    \"\"\"\n",
    "    cleaned = re.sub('@.*?(?:\\s|$)', '', tweet)\n",
    "    cleaned2 = re.sub('http.*?(?:\\s|$)', '', cleaned)\n",
    "    cleaned3 = re.sub('www.*?(?:\\s|$)', '', cleaned2)\n",
    "    return cleaned3\n",
    "\n",
    "def parse_to_dict(file_path):\n",
    "    \"\"\"\n",
    "    Creates hashmap with word as key and concept vector as value\n",
    "    :param file_path: path to the conceptnet dictionary file\n",
    "    :return: hashmap of word and vectors\n",
    "    \"\"\"\n",
    "    concept_hash = {}\n",
    "    with open(file_path, encoding=\"utf8\") as f:\n",
    "        text = f.readlines()[1:]\n",
    "        for line in text:\n",
    "            first_item = line.split(\" \").__getitem__(0)\n",
    "            concept_hash[first_item] = line\n",
    "    f.close()\n",
    "    return concept_hash\n",
    "\n",
    "def find_word(word, concept_hash):\n",
    "    \"\"\"\n",
    "    Finds conceptnet vector for a word in the conceptnet hashmap\n",
    "    :param word: input word to analyze\n",
    "    :param concept_hash: hashmap of word and conceptnet vector\n",
    "    :return: returns the appropriate vector or none if its not in the hashmap\n",
    "    \"\"\"\n",
    "    if word in concept_hash.keys():\n",
    "        vector = concept_hash[word].split(\" \")[1:]\n",
    "        vector = [float(i) for i in vector]\n",
    "    else:\n",
    "        vector = None\n",
    "    return vector\n",
    "  \n",
    "def fill_list(data):\n",
    "    \"\"\"\n",
    "    Fills or cuts list of tokens for a tweet at 35, to ensure consistent vector dimensions\n",
    "    \"\"\"\n",
    "    res = []\n",
    "    for row in data:\n",
    "        copy = row\n",
    "        if len(row) < 35:\n",
    "            copy += [''] * (35 - len(row))\n",
    "        elif len(row) > 35:\n",
    "            copy = row[:35]   \n",
    "        res.append(copy)\n",
    "    return res\n",
    "\n",
    "\n"
   ]
  },
  {
   "cell_type": "markdown",
   "metadata": {
    "colab_type": "text",
    "id": "OR6UBl8iELLd"
   },
   "source": [
    "**Preprocessing**"
   ]
  },
  {
   "cell_type": "code",
   "execution_count": 4,
   "metadata": {
    "colab": {},
    "colab_type": "code",
    "id": "BCjUYOPE-8Fw",
    "outputId": "c5c06d07-f308-45ce-9936-f32858a786a2"
   },
   "outputs": [
    {
     "name": "stdout",
     "output_type": "stream",
     "text": [
      "C:\\Users\\Tobias.Nusser\\AppData\\Local\\Programs\\Python\\Python37\\Scripts\n",
      "Preprocessing...\n",
      "Done\n",
      "Preprocessing...\n",
      "Done\n"
     ]
    }
   ],
   "source": [
    "print(os.getcwd())\n",
    "#base_path = \"C:/Users/Tobias.Nusser/PycharmProjects/sentiment_learning\"\n",
    "base_path = os.getcwd()\n",
    "training_data, training_label = preprocess(read_in(base_path + \"/data/training.csv\"))\n",
    "test_data, test_label = preprocess(read_in(base_path + \"/data/test.csv\"))"
   ]
  },
  {
   "cell_type": "markdown",
   "metadata": {
    "colab_type": "text",
    "id": "LhcImR4yEffg"
   },
   "source": [
    "**Split into training and validation set**"
   ]
  },
  {
   "cell_type": "code",
   "execution_count": 11,
   "metadata": {
    "colab": {},
    "colab_type": "code",
    "id": "PN1KLbJw-8F5"
   },
   "outputs": [],
   "source": [
    "train_data = fill_list(training_data[:12000])\n",
    "train_label = np.asarray(training_label[:12000])\n",
    "val_data = fill_list(training_data[12000:14000])\n",
    "val_label = np.asarray(training_label[12000:14000])"
   ]
  },
  {
   "cell_type": "markdown",
   "metadata": {
    "colab_type": "text",
    "id": "E14AgChEEsFo"
   },
   "source": [
    "**Load ELMO word embeddings in RAM**"
   ]
  },
  {
   "cell_type": "code",
   "execution_count": 9,
   "metadata": {
    "colab": {},
    "colab_type": "code",
    "id": "cPthA2B8-8F_"
   },
   "outputs": [],
   "source": [
    "# Load word embedding vectors into RAM\n",
    "e = Embedder(base_path + '/embeddings/elmo/144/', batch_size=48)"
   ]
  },
  {
   "cell_type": "markdown",
   "metadata": {
    "colab_type": "text",
    "id": "HcwoMKS5EqEJ"
   },
   "source": [
    "**Retrieve word embedding vectors for training and validation data**"
   ]
  },
  {
   "cell_type": "code",
   "execution_count": 12,
   "metadata": {
    "colab": {},
    "colab_type": "code",
    "id": "rCoE24vc-8GJ",
    "outputId": "554386ab-23dc-45cf-a254-e29b58532df6"
   },
   "outputs": [],
   "source": [
    "train_embedding_matrix = np.asarray(e.sents2elmo(train_data))\n",
    "val_embedding_matrix = np.asarray(e.sents2elmo(val_data))"
   ]
  },
  {
   "cell_type": "markdown",
   "metadata": {
    "colab_type": "text",
    "id": "pyaBbliRE7JL"
   },
   "source": [
    "**Neural Network Model**\n",
    "\n",
    "Sequential model with three Dense Layers and one Flatten layer to flatten 3D input matrix.\n",
    "*Relu* as activation function and simple *sigmoid* function for the output layer. Because of the binary classification task we used a simple *accuracy* metric and *binary crossentropy* as loss function. As optimizer we used *rmsprop*, which performed best according to some tests."
   ]
  },
  {
   "cell_type": "code",
   "execution_count": 13,
   "metadata": {
    "colab": {},
    "colab_type": "code",
    "id": "Sk5GifBm-8GO",
    "outputId": "aa614702-890d-48c9-a9df-2d8f4c4f4b2b"
   },
   "outputs": [
    {
     "name": "stderr",
     "output_type": "stream",
     "text": [
      "WARNING: Logging before flag parsing goes to stderr.\n",
      "W0805 15:45:14.989325  7380 deprecation_wrapper.py:119] From c:\\users\\tobias.nusser\\appdata\\local\\programs\\python\\python37\\lib\\site-packages\\keras\\backend\\tensorflow_backend.py:74: The name tf.get_default_graph is deprecated. Please use tf.compat.v1.get_default_graph instead.\n",
      "\n",
      "W0805 15:45:15.023327  7380 deprecation_wrapper.py:119] From c:\\users\\tobias.nusser\\appdata\\local\\programs\\python\\python37\\lib\\site-packages\\keras\\backend\\tensorflow_backend.py:517: The name tf.placeholder is deprecated. Please use tf.compat.v1.placeholder instead.\n",
      "\n",
      "W0805 15:45:15.033328  7380 deprecation_wrapper.py:119] From c:\\users\\tobias.nusser\\appdata\\local\\programs\\python\\python37\\lib\\site-packages\\keras\\backend\\tensorflow_backend.py:4138: The name tf.random_uniform is deprecated. Please use tf.random.uniform instead.\n",
      "\n",
      "W0805 15:45:15.117332  7380 deprecation_wrapper.py:119] From c:\\users\\tobias.nusser\\appdata\\local\\programs\\python\\python37\\lib\\site-packages\\keras\\optimizers.py:790: The name tf.train.Optimizer is deprecated. Please use tf.compat.v1.train.Optimizer instead.\n",
      "\n",
      "W0805 15:45:15.123333  7380 deprecation_wrapper.py:119] From c:\\users\\tobias.nusser\\appdata\\local\\programs\\python\\python37\\lib\\site-packages\\keras\\backend\\tensorflow_backend.py:3376: The name tf.log is deprecated. Please use tf.math.log instead.\n",
      "\n",
      "W0805 15:45:15.128333  7380 deprecation.py:323] From c:\\users\\tobias.nusser\\appdata\\local\\programs\\python\\python37\\lib\\site-packages\\tensorflow\\python\\ops\\nn_impl.py:180: add_dispatch_support.<locals>.wrapper (from tensorflow.python.ops.array_ops) is deprecated and will be removed in a future version.\n",
      "Instructions for updating:\n",
      "Use tf.where in 2.0, which has the same broadcast rule as np.where\n"
     ]
    },
    {
     "name": "stdout",
     "output_type": "stream",
     "text": [
      "_________________________________________________________________\n",
      "Layer (type)                 Output Shape              Param #   \n",
      "=================================================================\n",
      "dense_1 (Dense)              (None, 35, 20)            20500     \n",
      "_________________________________________________________________\n",
      "flatten_1 (Flatten)          (None, 700)               0         \n",
      "_________________________________________________________________\n",
      "dense_2 (Dense)              (None, 20)                14020     \n",
      "_________________________________________________________________\n",
      "dense_3 (Dense)              (None, 1)                 21        \n",
      "=================================================================\n",
      "Total params: 34,541\n",
      "Trainable params: 34,541\n",
      "Non-trainable params: 0\n",
      "_________________________________________________________________\n",
      "None\n"
     ]
    },
    {
     "name": "stderr",
     "output_type": "stream",
     "text": [
      "W0805 15:45:15.434351  7380 deprecation_wrapper.py:119] From c:\\users\\tobias.nusser\\appdata\\local\\programs\\python\\python37\\lib\\site-packages\\keras\\backend\\tensorflow_backend.py:986: The name tf.assign_add is deprecated. Please use tf.compat.v1.assign_add instead.\n",
      "\n"
     ]
    },
    {
     "name": "stdout",
     "output_type": "stream",
     "text": [
      "Train on 12000 samples, validate on 2000 samples\n",
      "Epoch 1/19\n",
      "12000/12000 [==============================] - ETA: 15s - loss: 0.7021 - acc: 0.46 - ETA: 8s - loss: 0.8249 - acc: 0.4551 - ETA: 6s - loss: 0.7796 - acc: 0.485 - ETA: 5s - loss: 0.7579 - acc: 0.485 - ETA: 4s - loss: 0.7441 - acc: 0.502 - ETA: 4s - loss: 0.7342 - acc: 0.517 - ETA: 3s - loss: 0.7287 - acc: 0.516 - ETA: 3s - loss: 0.7232 - acc: 0.525 - ETA: 3s - loss: 0.7185 - acc: 0.534 - ETA: 3s - loss: 0.7147 - acc: 0.539 - ETA: 2s - loss: 0.7114 - acc: 0.545 - ETA: 2s - loss: 0.7077 - acc: 0.552 - ETA: 2s - loss: 0.7053 - acc: 0.553 - ETA: 2s - loss: 0.7056 - acc: 0.549 - ETA: 2s - loss: 0.7044 - acc: 0.546 - ETA: 2s - loss: 0.7027 - acc: 0.547 - ETA: 2s - loss: 0.7014 - acc: 0.548 - ETA: 2s - loss: 0.6998 - acc: 0.551 - ETA: 1s - loss: 0.6979 - acc: 0.556 - ETA: 1s - loss: 0.6962 - acc: 0.558 - ETA: 1s - loss: 0.6946 - acc: 0.560 - ETA: 1s - loss: 0.6925 - acc: 0.565 - ETA: 1s - loss: 0.6910 - acc: 0.566 - ETA: 1s - loss: 0.6902 - acc: 0.566 - ETA: 1s - loss: 0.6893 - acc: 0.565 - ETA: 1s - loss: 0.6884 - acc: 0.566 - ETA: 1s - loss: 0.6870 - acc: 0.569 - ETA: 1s - loss: 0.6861 - acc: 0.570 - ETA: 1s - loss: 0.6848 - acc: 0.572 - ETA: 1s - loss: 0.6842 - acc: 0.573 - ETA: 1s - loss: 0.6847 - acc: 0.570 - ETA: 0s - loss: 0.6844 - acc: 0.570 - ETA: 0s - loss: 0.6832 - acc: 0.572 - ETA: 0s - loss: 0.6813 - acc: 0.576 - ETA: 0s - loss: 0.6799 - acc: 0.578 - ETA: 0s - loss: 0.6793 - acc: 0.579 - ETA: 0s - loss: 0.6781 - acc: 0.580 - ETA: 0s - loss: 0.6767 - acc: 0.582 - ETA: 0s - loss: 0.6762 - acc: 0.583 - ETA: 0s - loss: 0.6764 - acc: 0.583 - ETA: 0s - loss: 0.6752 - acc: 0.585 - ETA: 0s - loss: 0.6741 - acc: 0.586 - ETA: 0s - loss: 0.6728 - acc: 0.588 - ETA: 0s - loss: 0.6714 - acc: 0.590 - ETA: 0s - loss: 0.6702 - acc: 0.592 - 3s 269us/step - loss: 0.6689 - acc: 0.5943 - val_loss: 0.6316 - val_acc: 0.6445\n",
      "Epoch 2/19\n",
      "12000/12000 [==============================] - ETA: 2s - loss: 0.5983 - acc: 0.656 - ETA: 2s - loss: 0.6269 - acc: 0.636 - ETA: 2s - loss: 0.6271 - acc: 0.636 - ETA: 2s - loss: 0.6310 - acc: 0.640 - ETA: 2s - loss: 0.6247 - acc: 0.642 - ETA: 2s - loss: 0.6260 - acc: 0.644 - ETA: 2s - loss: 0.6201 - acc: 0.651 - ETA: 2s - loss: 0.6182 - acc: 0.656 - ETA: 2s - loss: 0.6202 - acc: 0.653 - ETA: 2s - loss: 0.6241 - acc: 0.648 - ETA: 2s - loss: 0.6264 - acc: 0.640 - ETA: 2s - loss: 0.6234 - acc: 0.645 - ETA: 1s - loss: 0.6205 - acc: 0.649 - ETA: 1s - loss: 0.6188 - acc: 0.653 - ETA: 1s - loss: 0.6146 - acc: 0.658 - ETA: 1s - loss: 0.6131 - acc: 0.658 - ETA: 1s - loss: 0.6165 - acc: 0.656 - ETA: 1s - loss: 0.6185 - acc: 0.653 - ETA: 1s - loss: 0.6175 - acc: 0.656 - ETA: 1s - loss: 0.6159 - acc: 0.660 - ETA: 1s - loss: 0.6160 - acc: 0.660 - ETA: 1s - loss: 0.6164 - acc: 0.659 - ETA: 1s - loss: 0.6171 - acc: 0.658 - ETA: 1s - loss: 0.6182 - acc: 0.655 - ETA: 1s - loss: 0.6179 - acc: 0.655 - ETA: 1s - loss: 0.6168 - acc: 0.655 - ETA: 1s - loss: 0.6160 - acc: 0.656 - ETA: 1s - loss: 0.6161 - acc: 0.656 - ETA: 1s - loss: 0.6166 - acc: 0.656 - ETA: 0s - loss: 0.6157 - acc: 0.656 - ETA: 0s - loss: 0.6143 - acc: 0.657 - ETA: 0s - loss: 0.6130 - acc: 0.658 - ETA: 0s - loss: 0.6117 - acc: 0.660 - ETA: 0s - loss: 0.6102 - acc: 0.662 - ETA: 0s - loss: 0.6103 - acc: 0.662 - ETA: 0s - loss: 0.6095 - acc: 0.663 - ETA: 0s - loss: 0.6099 - acc: 0.662 - ETA: 0s - loss: 0.6123 - acc: 0.660 - ETA: 0s - loss: 0.6112 - acc: 0.662 - ETA: 0s - loss: 0.6108 - acc: 0.663 - ETA: 0s - loss: 0.6101 - acc: 0.663 - ETA: 0s - loss: 0.6097 - acc: 0.664 - ETA: 0s - loss: 0.6094 - acc: 0.664 - ETA: 0s - loss: 0.6102 - acc: 0.663 - ETA: 0s - loss: 0.6102 - acc: 0.664 - ETA: 0s - loss: 0.6094 - acc: 0.665 - 3s 246us/step - loss: 0.6080 - acc: 0.6665 - val_loss: 0.5960 - val_acc: 0.6725\n",
      "Epoch 3/19\n",
      "12000/12000 [==============================] - ETA: 2s - loss: 0.5792 - acc: 0.699 - ETA: 2s - loss: 0.5968 - acc: 0.683 - ETA: 2s - loss: 0.5982 - acc: 0.686 - ETA: 2s - loss: 0.5887 - acc: 0.690 - ETA: 2s - loss: 0.5947 - acc: 0.685 - ETA: 2s - loss: 0.5880 - acc: 0.690 - ETA: 2s - loss: 0.5740 - acc: 0.704 - ETA: 1s - loss: 0.5827 - acc: 0.695 - ETA: 1s - loss: 0.5906 - acc: 0.688 - ETA: 1s - loss: 0.5882 - acc: 0.693 - ETA: 1s - loss: 0.5853 - acc: 0.698 - ETA: 1s - loss: 0.5844 - acc: 0.700 - ETA: 1s - loss: 0.5847 - acc: 0.698 - ETA: 1s - loss: 0.5823 - acc: 0.702 - ETA: 1s - loss: 0.5805 - acc: 0.702 - ETA: 1s - loss: 0.5787 - acc: 0.702 - ETA: 1s - loss: 0.5759 - acc: 0.704 - ETA: 1s - loss: 0.5781 - acc: 0.702 - ETA: 1s - loss: 0.5825 - acc: 0.697 - ETA: 0s - loss: 0.5803 - acc: 0.699 - ETA: 0s - loss: 0.5811 - acc: 0.698 - ETA: 0s - loss: 0.5797 - acc: 0.699 - ETA: 0s - loss: 0.5790 - acc: 0.700 - ETA: 0s - loss: 0.5780 - acc: 0.700 - ETA: 0s - loss: 0.5777 - acc: 0.700 - ETA: 0s - loss: 0.5775 - acc: 0.700 - ETA: 0s - loss: 0.5801 - acc: 0.698 - ETA: 0s - loss: 0.5804 - acc: 0.697 - ETA: 0s - loss: 0.5818 - acc: 0.695 - ETA: 0s - loss: 0.5812 - acc: 0.695 - ETA: 0s - loss: 0.5805 - acc: 0.696 - ETA: 0s - loss: 0.5806 - acc: 0.697 - 3s 224us/step - loss: 0.5800 - acc: 0.6973 - val_loss: 0.5797 - val_acc: 0.6905\n",
      "Epoch 4/19\n",
      "12000/12000 [==============================] - ETA: 2s - loss: 0.5496 - acc: 0.707 - ETA: 2s - loss: 0.5379 - acc: 0.725 - ETA: 2s - loss: 0.5467 - acc: 0.714 - ETA: 2s - loss: 0.5501 - acc: 0.714 - ETA: 2s - loss: 0.5473 - acc: 0.714 - ETA: 2s - loss: 0.5456 - acc: 0.716 - ETA: 2s - loss: 0.5575 - acc: 0.705 - ETA: 2s - loss: 0.5603 - acc: 0.703 - ETA: 2s - loss: 0.5559 - acc: 0.711 - ETA: 1s - loss: 0.5568 - acc: 0.710 - ETA: 1s - loss: 0.5584 - acc: 0.709 - ETA: 1s - loss: 0.5626 - acc: 0.705 - ETA: 1s - loss: 0.5622 - acc: 0.707 - ETA: 1s - loss: 0.5605 - acc: 0.709 - ETA: 1s - loss: 0.5602 - acc: 0.708 - ETA: 1s - loss: 0.5580 - acc: 0.711 - ETA: 1s - loss: 0.5556 - acc: 0.713 - ETA: 1s - loss: 0.5558 - acc: 0.714 - ETA: 1s - loss: 0.5565 - acc: 0.713 - ETA: 1s - loss: 0.5560 - acc: 0.714 - ETA: 1s - loss: 0.5547 - acc: 0.716 - ETA: 1s - loss: 0.5549 - acc: 0.715 - ETA: 1s - loss: 0.5539 - acc: 0.716 - ETA: 0s - loss: 0.5544 - acc: 0.716 - ETA: 0s - loss: 0.5570 - acc: 0.713 - ETA: 0s - loss: 0.5591 - acc: 0.712 - ETA: 0s - loss: 0.5595 - acc: 0.712 - ETA: 0s - loss: 0.5600 - acc: 0.711 - ETA: 0s - loss: 0.5592 - acc: 0.712 - ETA: 0s - loss: 0.5581 - acc: 0.713 - ETA: 0s - loss: 0.5577 - acc: 0.712 - ETA: 0s - loss: 0.5575 - acc: 0.713 - ETA: 0s - loss: 0.5564 - acc: 0.714 - ETA: 0s - loss: 0.5573 - acc: 0.713 - ETA: 0s - loss: 0.5561 - acc: 0.713 - ETA: 0s - loss: 0.5556 - acc: 0.714 - ETA: 0s - loss: 0.5541 - acc: 0.715 - 3s 228us/step - loss: 0.5547 - acc: 0.7141 - val_loss: 0.6525 - val_acc: 0.6425\n",
      "Epoch 5/19\n",
      "12000/12000 [==============================] - ETA: 2s - loss: 0.5947 - acc: 0.648 - ETA: 2s - loss: 0.5590 - acc: 0.700 - ETA: 2s - loss: 0.5536 - acc: 0.703 - ETA: 2s - loss: 0.5500 - acc: 0.706 - ETA: 2s - loss: 0.5508 - acc: 0.703 - ETA: 2s - loss: 0.5483 - acc: 0.710 - ETA: 2s - loss: 0.5421 - acc: 0.716 - ETA: 1s - loss: 0.5359 - acc: 0.721 - ETA: 1s - loss: 0.5383 - acc: 0.722 - ETA: 1s - loss: 0.5417 - acc: 0.719 - ETA: 1s - loss: 0.5465 - acc: 0.714 - ETA: 1s - loss: 0.5465 - acc: 0.714 - ETA: 1s - loss: 0.5444 - acc: 0.716 - ETA: 1s - loss: 0.5411 - acc: 0.721 - ETA: 1s - loss: 0.5376 - acc: 0.724 - ETA: 1s - loss: 0.5370 - acc: 0.724 - ETA: 1s - loss: 0.5325 - acc: 0.729 - ETA: 1s - loss: 0.5311 - acc: 0.730 - ETA: 1s - loss: 0.5349 - acc: 0.728 - ETA: 1s - loss: 0.5384 - acc: 0.725 - ETA: 1s - loss: 0.5391 - acc: 0.725 - ETA: 1s - loss: 0.5374 - acc: 0.728 - ETA: 1s - loss: 0.5355 - acc: 0.730 - ETA: 1s - loss: 0.5349 - acc: 0.732 - ETA: 0s - loss: 0.5347 - acc: 0.733 - ETA: 0s - loss: 0.5346 - acc: 0.732 - ETA: 0s - loss: 0.5335 - acc: 0.733 - ETA: 0s - loss: 0.5333 - acc: 0.733 - ETA: 0s - loss: 0.5340 - acc: 0.732 - ETA: 0s - loss: 0.5329 - acc: 0.733 - ETA: 0s - loss: 0.5335 - acc: 0.733 - ETA: 0s - loss: 0.5331 - acc: 0.733 - ETA: 0s - loss: 0.5325 - acc: 0.733 - ETA: 0s - loss: 0.5337 - acc: 0.732 - ETA: 0s - loss: 0.5345 - acc: 0.731 - ETA: 0s - loss: 0.5352 - acc: 0.730 - ETA: 0s - loss: 0.5366 - acc: 0.729 - ETA: 0s - loss: 0.5367 - acc: 0.728 - ETA: 0s - loss: 0.5361 - acc: 0.729 - ETA: 0s - loss: 0.5358 - acc: 0.730 - ETA: 0s - loss: 0.5357 - acc: 0.730 - 3s 237us/step - loss: 0.5360 - acc: 0.7302 - val_loss: 0.5699 - val_acc: 0.7005\n",
      "Epoch 6/19\n",
      "12000/12000 [==============================] - ETA: 2s - loss: 0.5048 - acc: 0.781 - ETA: 2s - loss: 0.5030 - acc: 0.775 - ETA: 2s - loss: 0.4969 - acc: 0.781 - ETA: 2s - loss: 0.5047 - acc: 0.769 - ETA: 2s - loss: 0.5079 - acc: 0.763 - ETA: 2s - loss: 0.5176 - acc: 0.750 - ETA: 2s - loss: 0.5171 - acc: 0.747 - ETA: 2s - loss: 0.5132 - acc: 0.753 - ETA: 2s - loss: 0.5147 - acc: 0.751 - ETA: 2s - loss: 0.5114 - acc: 0.756 - ETA: 2s - loss: 0.5146 - acc: 0.753 - ETA: 2s - loss: 0.5153 - acc: 0.750 - ETA: 2s - loss: 0.5147 - acc: 0.749 - ETA: 2s - loss: 0.5156 - acc: 0.748 - ETA: 1s - loss: 0.5148 - acc: 0.747 - ETA: 1s - loss: 0.5141 - acc: 0.747 - ETA: 1s - loss: 0.5115 - acc: 0.749 - ETA: 1s - loss: 0.5124 - acc: 0.748 - ETA: 1s - loss: 0.5129 - acc: 0.747 - ETA: 1s - loss: 0.5116 - acc: 0.749 - ETA: 1s - loss: 0.5133 - acc: 0.748 - ETA: 1s - loss: 0.5138 - acc: 0.748 - ETA: 1s - loss: 0.5140 - acc: 0.748 - ETA: 1s - loss: 0.5145 - acc: 0.747 - ETA: 1s - loss: 0.5128 - acc: 0.748 - ETA: 1s - loss: 0.5131 - acc: 0.748 - ETA: 1s - loss: 0.5144 - acc: 0.747 - ETA: 1s - loss: 0.5167 - acc: 0.746 - ETA: 1s - loss: 0.5178 - acc: 0.745 - ETA: 0s - loss: 0.5171 - acc: 0.746 - ETA: 0s - loss: 0.5157 - acc: 0.747 - ETA: 0s - loss: 0.5151 - acc: 0.747 - ETA: 0s - loss: 0.5154 - acc: 0.747 - ETA: 0s - loss: 0.5148 - acc: 0.747 - ETA: 0s - loss: 0.5140 - acc: 0.748 - ETA: 0s - loss: 0.5135 - acc: 0.749 - ETA: 0s - loss: 0.5135 - acc: 0.749 - ETA: 0s - loss: 0.5158 - acc: 0.747 - ETA: 0s - loss: 0.5169 - acc: 0.746 - ETA: 0s - loss: 0.5164 - acc: 0.746 - ETA: 0s - loss: 0.5160 - acc: 0.747 - ETA: 0s - loss: 0.5172 - acc: 0.746 - ETA: 0s - loss: 0.5155 - acc: 0.747 - ETA: 0s - loss: 0.5153 - acc: 0.747 - ETA: 0s - loss: 0.5154 - acc: 0.747 - ETA: 0s - loss: 0.5168 - acc: 0.746 - 3s 247us/step - loss: 0.5161 - acc: 0.7473 - val_loss: 0.5713 - val_acc: 0.6980\n",
      "Epoch 7/19\n",
      "12000/12000 [==============================] - ETA: 2s - loss: 0.4866 - acc: 0.785 - ETA: 2s - loss: 0.4787 - acc: 0.793 - ETA: 2s - loss: 0.4890 - acc: 0.778 - ETA: 2s - loss: 0.4924 - acc: 0.774 - ETA: 2s - loss: 0.4920 - acc: 0.774 - ETA: 1s - loss: 0.4839 - acc: 0.777 - ETA: 1s - loss: 0.4814 - acc: 0.779 - ETA: 1s - loss: 0.4803 - acc: 0.777 - ETA: 1s - loss: 0.4858 - acc: 0.773 - ETA: 1s - loss: 0.4875 - acc: 0.771 - ETA: 1s - loss: 0.4912 - acc: 0.769 - ETA: 1s - loss: 0.4938 - acc: 0.767 - ETA: 1s - loss: 0.4927 - acc: 0.768 - ETA: 1s - loss: 0.4919 - acc: 0.768 - ETA: 1s - loss: 0.4918 - acc: 0.768 - ETA: 1s - loss: 0.4921 - acc: 0.767 - ETA: 1s - loss: 0.4905 - acc: 0.768 - ETA: 1s - loss: 0.4919 - acc: 0.767 - ETA: 1s - loss: 0.4949 - acc: 0.764 - ETA: 1s - loss: 0.4965 - acc: 0.763 - ETA: 1s - loss: 0.4976 - acc: 0.762 - ETA: 1s - loss: 0.4971 - acc: 0.764 - ETA: 1s - loss: 0.4971 - acc: 0.764 - ETA: 0s - loss: 0.4965 - acc: 0.764 - ETA: 0s - loss: 0.4963 - acc: 0.764 - ETA: 0s - loss: 0.4948 - acc: 0.764 - ETA: 0s - loss: 0.4966 - acc: 0.762 - ETA: 0s - loss: 0.4970 - acc: 0.762 - ETA: 0s - loss: 0.4968 - acc: 0.761 - ETA: 0s - loss: 0.4963 - acc: 0.761 - ETA: 0s - loss: 0.4965 - acc: 0.761 - ETA: 0s - loss: 0.4976 - acc: 0.760 - ETA: 0s - loss: 0.4958 - acc: 0.762 - ETA: 0s - loss: 0.4950 - acc: 0.763 - ETA: 0s - loss: 0.4950 - acc: 0.763 - ETA: 0s - loss: 0.4950 - acc: 0.763 - ETA: 0s - loss: 0.4949 - acc: 0.763 - ETA: 0s - loss: 0.4960 - acc: 0.761 - ETA: 0s - loss: 0.4969 - acc: 0.761 - ETA: 0s - loss: 0.4971 - acc: 0.760 - ETA: 0s - loss: 0.4968 - acc: 0.760 - 3s 229us/step - loss: 0.4969 - acc: 0.7598 - val_loss: 0.5621 - val_acc: 0.7040\n",
      "Epoch 8/19\n",
      "12000/12000 [==============================] - ETA: 2s - loss: 0.4436 - acc: 0.816 - ETA: 2s - loss: 0.4278 - acc: 0.821 - ETA: 2s - loss: 0.4402 - acc: 0.807 - ETA: 2s - loss: 0.4434 - acc: 0.805 - ETA: 2s - loss: 0.4476 - acc: 0.803 - ETA: 2s - loss: 0.4514 - acc: 0.796 - ETA: 2s - loss: 0.4548 - acc: 0.793 - ETA: 2s - loss: 0.4607 - acc: 0.787 - ETA: 1s - loss: 0.4637 - acc: 0.785 - ETA: 1s - loss: 0.4641 - acc: 0.786 - ETA: 1s - loss: 0.4667 - acc: 0.784 - ETA: 1s - loss: 0.4692 - acc: 0.783 - ETA: 1s - loss: 0.4647 - acc: 0.786 - ETA: 1s - loss: 0.4619 - acc: 0.789 - ETA: 1s - loss: 0.4596 - acc: 0.790 - ETA: 1s - loss: 0.4583 - acc: 0.790 - ETA: 1s - loss: 0.4619 - acc: 0.787 - ETA: 1s - loss: 0.4661 - acc: 0.783 - ETA: 1s - loss: 0.4688 - acc: 0.780 - ETA: 1s - loss: 0.4701 - acc: 0.779 - ETA: 1s - loss: 0.4707 - acc: 0.778 - ETA: 1s - loss: 0.4698 - acc: 0.779 - ETA: 1s - loss: 0.4693 - acc: 0.780 - ETA: 1s - loss: 0.4687 - acc: 0.780 - ETA: 1s - loss: 0.4683 - acc: 0.779 - ETA: 1s - loss: 0.4685 - acc: 0.780 - ETA: 1s - loss: 0.4674 - acc: 0.781 - ETA: 0s - loss: 0.4689 - acc: 0.780 - ETA: 0s - loss: 0.4737 - acc: 0.777 - ETA: 0s - loss: 0.4759 - acc: 0.774 - ETA: 0s - loss: 0.4755 - acc: 0.775 - ETA: 0s - loss: 0.4768 - acc: 0.773 - ETA: 0s - loss: 0.4761 - acc: 0.774 - ETA: 0s - loss: 0.4756 - acc: 0.775 - ETA: 0s - loss: 0.4755 - acc: 0.775 - ETA: 0s - loss: 0.4741 - acc: 0.776 - ETA: 0s - loss: 0.4740 - acc: 0.775 - ETA: 0s - loss: 0.4746 - acc: 0.775 - ETA: 0s - loss: 0.4745 - acc: 0.775 - ETA: 0s - loss: 0.4757 - acc: 0.774 - ETA: 0s - loss: 0.4766 - acc: 0.773 - ETA: 0s - loss: 0.4762 - acc: 0.773 - 3s 234us/step - loss: 0.4765 - acc: 0.7728 - val_loss: 0.5580 - val_acc: 0.7135\n",
      "Epoch 9/19\n",
      "12000/12000 [==============================] - ETA: 2s - loss: 0.4789 - acc: 0.808 - ETA: 2s - loss: 0.4414 - acc: 0.812 - ETA: 2s - loss: 0.4593 - acc: 0.798 - ETA: 2s - loss: 0.4564 - acc: 0.800 - ETA: 2s - loss: 0.4548 - acc: 0.796 - ETA: 2s - loss: 0.4543 - acc: 0.797 - ETA: 2s - loss: 0.4597 - acc: 0.789 - ETA: 2s - loss: 0.4754 - acc: 0.775 - ETA: 2s - loss: 0.4838 - acc: 0.770 - ETA: 2s - loss: 0.4792 - acc: 0.773 - ETA: 1s - loss: 0.4734 - acc: 0.777 - ETA: 1s - loss: 0.4694 - acc: 0.781 - ETA: 1s - loss: 0.4611 - acc: 0.786 - ETA: 1s - loss: 0.4629 - acc: 0.784 - ETA: 1s - loss: 0.4628 - acc: 0.782 - ETA: 1s - loss: 0.4734 - acc: 0.776 - ETA: 1s - loss: 0.4724 - acc: 0.776 - ETA: 1s - loss: 0.4697 - acc: 0.778 - ETA: 1s - loss: 0.4668 - acc: 0.780 - ETA: 1s - loss: 0.4609 - acc: 0.784 - ETA: 1s - loss: 0.4612 - acc: 0.782 - ETA: 0s - loss: 0.4637 - acc: 0.781 - ETA: 0s - loss: 0.4633 - acc: 0.782 - ETA: 0s - loss: 0.4631 - acc: 0.781 - ETA: 0s - loss: 0.4626 - acc: 0.781 - ETA: 0s - loss: 0.4622 - acc: 0.781 - ETA: 0s - loss: 0.4623 - acc: 0.781 - ETA: 0s - loss: 0.4647 - acc: 0.779 - ETA: 0s - loss: 0.4668 - acc: 0.778 - ETA: 0s - loss: 0.4663 - acc: 0.778 - ETA: 0s - loss: 0.4647 - acc: 0.780 - ETA: 0s - loss: 0.4639 - acc: 0.780 - ETA: 0s - loss: 0.4636 - acc: 0.780 - 3s 212us/step - loss: 0.4631 - acc: 0.7804 - val_loss: 0.5695 - val_acc: 0.7080\n",
      "Epoch 10/19\n",
      "12000/12000 [==============================] - ETA: 2s - loss: 0.4449 - acc: 0.800 - ETA: 2s - loss: 0.4388 - acc: 0.775 - ETA: 2s - loss: 0.4534 - acc: 0.777 - ETA: 2s - loss: 0.4534 - acc: 0.780 - ETA: 2s - loss: 0.4505 - acc: 0.789 - ETA: 2s - loss: 0.4493 - acc: 0.789 - ETA: 2s - loss: 0.4468 - acc: 0.791 - ETA: 2s - loss: 0.4433 - acc: 0.794 - ETA: 2s - loss: 0.4392 - acc: 0.796 - ETA: 2s - loss: 0.4448 - acc: 0.796 - ETA: 2s - loss: 0.4418 - acc: 0.799 - ETA: 2s - loss: 0.4420 - acc: 0.800 - ETA: 2s - loss: 0.4483 - acc: 0.796 - ETA: 1s - loss: 0.4522 - acc: 0.792 - ETA: 1s - loss: 0.4503 - acc: 0.792 - ETA: 1s - loss: 0.4481 - acc: 0.792 - ETA: 1s - loss: 0.4475 - acc: 0.793 - ETA: 1s - loss: 0.4478 - acc: 0.793 - ETA: 1s - loss: 0.4475 - acc: 0.793 - ETA: 1s - loss: 0.4458 - acc: 0.795 - ETA: 1s - loss: 0.4452 - acc: 0.795 - ETA: 1s - loss: 0.4461 - acc: 0.794 - ETA: 1s - loss: 0.4475 - acc: 0.793 - ETA: 1s - loss: 0.4467 - acc: 0.793 - ETA: 1s - loss: 0.4463 - acc: 0.793 - ETA: 1s - loss: 0.4456 - acc: 0.794 - ETA: 1s - loss: 0.4452 - acc: 0.794 - ETA: 1s - loss: 0.4438 - acc: 0.796 - ETA: 1s - loss: 0.4436 - acc: 0.796 - ETA: 0s - loss: 0.4474 - acc: 0.794 - ETA: 0s - loss: 0.4494 - acc: 0.791 - ETA: 0s - loss: 0.4493 - acc: 0.792 - ETA: 0s - loss: 0.4479 - acc: 0.793 - ETA: 0s - loss: 0.4470 - acc: 0.794 - ETA: 0s - loss: 0.4461 - acc: 0.794 - ETA: 0s - loss: 0.4452 - acc: 0.794 - ETA: 0s - loss: 0.4442 - acc: 0.795 - ETA: 0s - loss: 0.4433 - acc: 0.795 - ETA: 0s - loss: 0.4463 - acc: 0.793 - ETA: 0s - loss: 0.4461 - acc: 0.793 - ETA: 0s - loss: 0.4460 - acc: 0.794 - ETA: 0s - loss: 0.4437 - acc: 0.796 - ETA: 0s - loss: 0.4430 - acc: 0.796 - 3s 239us/step - loss: 0.4435 - acc: 0.7962 - val_loss: 0.5682 - val_acc: 0.7115\n",
      "Epoch 11/19\n",
      "12000/12000 [==============================] - ETA: 2s - loss: 0.4323 - acc: 0.793 - ETA: 2s - loss: 0.4200 - acc: 0.802 - ETA: 2s - loss: 0.4214 - acc: 0.811 - ETA: 2s - loss: 0.4138 - acc: 0.819 - ETA: 2s - loss: 0.4309 - acc: 0.803 - ETA: 2s - loss: 0.4361 - acc: 0.798 - ETA: 2s - loss: 0.4305 - acc: 0.800 - ETA: 2s - loss: 0.4298 - acc: 0.800 - ETA: 2s - loss: 0.4306 - acc: 0.801 - ETA: 2s - loss: 0.4308 - acc: 0.800 - ETA: 2s - loss: 0.4310 - acc: 0.801 - ETA: 2s - loss: 0.4314 - acc: 0.799 - ETA: 2s - loss: 0.4275 - acc: 0.803 - ETA: 1s - loss: 0.4261 - acc: 0.805 - ETA: 1s - loss: 0.4280 - acc: 0.803 - ETA: 1s - loss: 0.4319 - acc: 0.799 - ETA: 1s - loss: 0.4312 - acc: 0.798 - ETA: 1s - loss: 0.4300 - acc: 0.799 - ETA: 1s - loss: 0.4264 - acc: 0.801 - ETA: 1s - loss: 0.4253 - acc: 0.802 - ETA: 1s - loss: 0.4274 - acc: 0.801 - ETA: 1s - loss: 0.4282 - acc: 0.800 - ETA: 1s - loss: 0.4288 - acc: 0.799 - ETA: 1s - loss: 0.4269 - acc: 0.801 - ETA: 1s - loss: 0.4245 - acc: 0.804 - ETA: 1s - loss: 0.4248 - acc: 0.804 - ETA: 0s - loss: 0.4262 - acc: 0.802 - ETA: 0s - loss: 0.4239 - acc: 0.805 - ETA: 0s - loss: 0.4241 - acc: 0.805 - ETA: 0s - loss: 0.4238 - acc: 0.805 - ETA: 0s - loss: 0.4233 - acc: 0.806 - ETA: 0s - loss: 0.4247 - acc: 0.805 - ETA: 0s - loss: 0.4291 - acc: 0.802 - ETA: 0s - loss: 0.4292 - acc: 0.801 - ETA: 0s - loss: 0.4283 - acc: 0.802 - ETA: 0s - loss: 0.4274 - acc: 0.803 - ETA: 0s - loss: 0.4269 - acc: 0.803 - ETA: 0s - loss: 0.4265 - acc: 0.804 - ETA: 0s - loss: 0.4257 - acc: 0.804 - ETA: 0s - loss: 0.4287 - acc: 0.802 - 3s 232us/step - loss: 0.4299 - acc: 0.8016 - val_loss: 0.5722 - val_acc: 0.7110\n",
      "Epoch 12/19\n",
      "12000/12000 [==============================] - ETA: 2s - loss: 0.3966 - acc: 0.835 - ETA: 2s - loss: 0.3765 - acc: 0.841 - ETA: 2s - loss: 0.3876 - acc: 0.832 - ETA: 2s - loss: 0.3823 - acc: 0.839 - ETA: 2s - loss: 0.3798 - acc: 0.846 - ETA: 1s - loss: 0.3815 - acc: 0.842 - ETA: 1s - loss: 0.3842 - acc: 0.840 - ETA: 1s - loss: 0.3847 - acc: 0.840 - ETA: 1s - loss: 0.3837 - acc: 0.840 - ETA: 1s - loss: 0.3848 - acc: 0.838 - ETA: 1s - loss: 0.3866 - acc: 0.835 - ETA: 1s - loss: 0.3980 - acc: 0.825 - ETA: 1s - loss: 0.3999 - acc: 0.825 - ETA: 1s - loss: 0.3993 - acc: 0.825 - ETA: 1s - loss: 0.4028 - acc: 0.822 - ETA: 1s - loss: 0.4069 - acc: 0.819 - ETA: 1s - loss: 0.4077 - acc: 0.818 - ETA: 0s - loss: 0.4079 - acc: 0.818 - ETA: 0s - loss: 0.4055 - acc: 0.820 - ETA: 0s - loss: 0.4031 - acc: 0.821 - ETA: 0s - loss: 0.4020 - acc: 0.822 - ETA: 0s - loss: 0.4064 - acc: 0.819 - ETA: 0s - loss: 0.4081 - acc: 0.817 - ETA: 0s - loss: 0.4086 - acc: 0.817 - ETA: 0s - loss: 0.4084 - acc: 0.817 - ETA: 0s - loss: 0.4081 - acc: 0.817 - ETA: 0s - loss: 0.4079 - acc: 0.817 - ETA: 0s - loss: 0.4070 - acc: 0.817 - ETA: 0s - loss: 0.4046 - acc: 0.818 - 2s 206us/step - loss: 0.4036 - acc: 0.8194 - val_loss: 0.6266 - val_acc: 0.6980\n",
      "Epoch 13/19\n",
      "12000/12000 [==============================] - ETA: 2s - loss: 0.3990 - acc: 0.785 - ETA: 2s - loss: 0.4725 - acc: 0.766 - ETA: 2s - loss: 0.4409 - acc: 0.795 - ETA: 2s - loss: 0.4275 - acc: 0.801 - ETA: 1s - loss: 0.4134 - acc: 0.811 - ETA: 1s - loss: 0.4075 - acc: 0.810 - ETA: 1s - loss: 0.4053 - acc: 0.811 - ETA: 1s - loss: 0.4025 - acc: 0.815 - ETA: 1s - loss: 0.4031 - acc: 0.815 - ETA: 1s - loss: 0.4007 - acc: 0.816 - ETA: 1s - loss: 0.4011 - acc: 0.816 - ETA: 1s - loss: 0.3988 - acc: 0.818 - ETA: 1s - loss: 0.3983 - acc: 0.819 - ETA: 1s - loss: 0.3958 - acc: 0.822 - ETA: 1s - loss: 0.3971 - acc: 0.820 - ETA: 1s - loss: 0.3970 - acc: 0.820 - ETA: 1s - loss: 0.3969 - acc: 0.820 - ETA: 0s - loss: 0.3936 - acc: 0.823 - ETA: 0s - loss: 0.3923 - acc: 0.824 - ETA: 0s - loss: 0.3939 - acc: 0.823 - ETA: 0s - loss: 0.3974 - acc: 0.820 - ETA: 0s - loss: 0.3984 - acc: 0.819 - ETA: 0s - loss: 0.3970 - acc: 0.821 - ETA: 0s - loss: 0.3955 - acc: 0.822 - ETA: 0s - loss: 0.3960 - acc: 0.822 - ETA: 0s - loss: 0.3950 - acc: 0.823 - ETA: 0s - loss: 0.3940 - acc: 0.823 - ETA: 0s - loss: 0.3930 - acc: 0.824 - ETA: 0s - loss: 0.3934 - acc: 0.823 - ETA: 0s - loss: 0.3923 - acc: 0.824 - 2s 205us/step - loss: 0.3948 - acc: 0.8226 - val_loss: 0.5992 - val_acc: 0.7090\n",
      "Epoch 14/19\n",
      "12000/12000 [==============================] - ETA: 2s - loss: 0.3526 - acc: 0.878 - ETA: 2s - loss: 0.3424 - acc: 0.865 - ETA: 1s - loss: 0.3488 - acc: 0.857 - ETA: 1s - loss: 0.3680 - acc: 0.843 - ETA: 1s - loss: 0.3601 - acc: 0.847 - ETA: 1s - loss: 0.3560 - acc: 0.851 - ETA: 1s - loss: 0.3535 - acc: 0.854 - ETA: 1s - loss: 0.3592 - acc: 0.849 - ETA: 1s - loss: 0.3624 - acc: 0.847 - ETA: 1s - loss: 0.3617 - acc: 0.849 - ETA: 1s - loss: 0.3626 - acc: 0.847 - ETA: 1s - loss: 0.3682 - acc: 0.844 - ETA: 1s - loss: 0.3704 - acc: 0.843 - ETA: 1s - loss: 0.3684 - acc: 0.843 - ETA: 0s - loss: 0.3699 - acc: 0.842 - ETA: 0s - loss: 0.3745 - acc: 0.839 - ETA: 0s - loss: 0.3791 - acc: 0.835 - ETA: 0s - loss: 0.3768 - acc: 0.837 - ETA: 0s - loss: 0.3752 - acc: 0.837 - ETA: 0s - loss: 0.3751 - acc: 0.837 - ETA: 0s - loss: 0.3786 - acc: 0.835 - ETA: 0s - loss: 0.3785 - acc: 0.835 - ETA: 0s - loss: 0.3778 - acc: 0.835 - ETA: 0s - loss: 0.3781 - acc: 0.835 - ETA: 0s - loss: 0.3812 - acc: 0.833 - 2s 201us/step - loss: 0.3810 - acc: 0.8338 - val_loss: 0.5956 - val_acc: 0.7160\n",
      "Epoch 15/19\n",
      "12000/12000 [==============================] - ETA: 2s - loss: 0.2940 - acc: 0.890 - ETA: 2s - loss: 0.3176 - acc: 0.863 - ETA: 2s - loss: 0.3354 - acc: 0.851 - ETA: 2s - loss: 0.3539 - acc: 0.844 - ETA: 2s - loss: 0.3845 - acc: 0.825 - ETA: 2s - loss: 0.3835 - acc: 0.828 - ETA: 1s - loss: 0.3746 - acc: 0.836 - ETA: 1s - loss: 0.3599 - acc: 0.846 - ETA: 1s - loss: 0.3608 - acc: 0.846 - ETA: 1s - loss: 0.3576 - acc: 0.850 - ETA: 1s - loss: 0.3532 - acc: 0.854 - ETA: 1s - loss: 0.3525 - acc: 0.854 - ETA: 1s - loss: 0.3568 - acc: 0.852 - ETA: 1s - loss: 0.3621 - acc: 0.848 - ETA: 1s - loss: 0.3658 - acc: 0.844 - ETA: 1s - loss: 0.3636 - acc: 0.846 - ETA: 1s - loss: 0.3605 - acc: 0.848 - ETA: 0s - loss: 0.3597 - acc: 0.847 - ETA: 0s - loss: 0.3584 - acc: 0.848 - ETA: 0s - loss: 0.3598 - acc: 0.847 - ETA: 0s - loss: 0.3640 - acc: 0.845 - ETA: 0s - loss: 0.3614 - acc: 0.846 - ETA: 0s - loss: 0.3612 - acc: 0.845 - ETA: 0s - loss: 0.3634 - acc: 0.843 - ETA: 0s - loss: 0.3667 - acc: 0.840 - ETA: 0s - loss: 0.3655 - acc: 0.841 - ETA: 0s - loss: 0.3646 - acc: 0.841 - ETA: 0s - loss: 0.3651 - acc: 0.841 - 2s 204us/step - loss: 0.3652 - acc: 0.8410 - val_loss: 0.6189 - val_acc: 0.7035\n",
      "Epoch 16/19\n",
      "12000/12000 [==============================] - ETA: 2s - loss: 0.3260 - acc: 0.871 - ETA: 2s - loss: 0.3101 - acc: 0.873 - ETA: 2s - loss: 0.3148 - acc: 0.869 - ETA: 2s - loss: 0.3143 - acc: 0.875 - ETA: 1s - loss: 0.3119 - acc: 0.871 - ETA: 1s - loss: 0.3454 - acc: 0.847 - ETA: 1s - loss: 0.3623 - acc: 0.835 - ETA: 1s - loss: 0.3566 - acc: 0.839 - ETA: 1s - loss: 0.3508 - acc: 0.844 - ETA: 1s - loss: 0.3474 - acc: 0.846 - ETA: 1s - loss: 0.3498 - acc: 0.843 - ETA: 1s - loss: 0.3494 - acc: 0.843 - ETA: 1s - loss: 0.3459 - acc: 0.846 - ETA: 1s - loss: 0.3437 - acc: 0.848 - ETA: 1s - loss: 0.3482 - acc: 0.844 - ETA: 0s - loss: 0.3538 - acc: 0.841 - ETA: 0s - loss: 0.3524 - acc: 0.843 - ETA: 0s - loss: 0.3502 - acc: 0.845 - ETA: 0s - loss: 0.3476 - acc: 0.847 - ETA: 0s - loss: 0.3454 - acc: 0.848 - ETA: 0s - loss: 0.3458 - acc: 0.849 - ETA: 0s - loss: 0.3470 - acc: 0.848 - ETA: 0s - loss: 0.3468 - acc: 0.848 - ETA: 0s - loss: 0.3459 - acc: 0.850 - ETA: 0s - loss: 0.3464 - acc: 0.850 - ETA: 0s - loss: 0.3482 - acc: 0.848 - 2s 201us/step - loss: 0.3477 - acc: 0.8483 - val_loss: 0.6237 - val_acc: 0.7070\n",
      "Epoch 17/19\n",
      "12000/12000 [==============================] - ETA: 2s - loss: 0.3372 - acc: 0.882 - ETA: 2s - loss: 0.3113 - acc: 0.876 - ETA: 1s - loss: 0.3012 - acc: 0.882 - ETA: 1s - loss: 0.3413 - acc: 0.854 - ETA: 1s - loss: 0.3485 - acc: 0.850 - ETA: 1s - loss: 0.3383 - acc: 0.858 - ETA: 1s - loss: 0.3310 - acc: 0.862 - ETA: 1s - loss: 0.3273 - acc: 0.864 - ETA: 1s - loss: 0.3251 - acc: 0.866 - ETA: 1s - loss: 0.3268 - acc: 0.866 - ETA: 1s - loss: 0.3273 - acc: 0.863 - ETA: 1s - loss: 0.3308 - acc: 0.860 - ETA: 1s - loss: 0.3366 - acc: 0.856 - ETA: 0s - loss: 0.3363 - acc: 0.856 - ETA: 0s - loss: 0.3321 - acc: 0.859 - ETA: 0s - loss: 0.3311 - acc: 0.859 - ETA: 0s - loss: 0.3320 - acc: 0.858 - ETA: 0s - loss: 0.3373 - acc: 0.855 - ETA: 0s - loss: 0.3415 - acc: 0.853 - ETA: 0s - loss: 0.3413 - acc: 0.853 - ETA: 0s - loss: 0.3410 - acc: 0.853 - ETA: 0s - loss: 0.3404 - acc: 0.854 - ETA: 0s - loss: 0.3403 - acc: 0.854 - ETA: 0s - loss: 0.3386 - acc: 0.855 - ETA: 0s - loss: 0.3379 - acc: 0.856 - ETA: 0s - loss: 0.3383 - acc: 0.856 - 2s 201us/step - loss: 0.3383 - acc: 0.8558 - val_loss: 0.6513 - val_acc: 0.7055\n",
      "Epoch 18/19\n",
      "12000/12000 [==============================] - ETA: 2s - loss: 0.2915 - acc: 0.886 - ETA: 2s - loss: 0.2823 - acc: 0.894 - ETA: 2s - loss: 0.2926 - acc: 0.880 - ETA: 1s - loss: 0.3003 - acc: 0.872 - ETA: 1s - loss: 0.3043 - acc: 0.871 - ETA: 1s - loss: 0.3113 - acc: 0.869 - ETA: 1s - loss: 0.3183 - acc: 0.862 - ETA: 1s - loss: 0.3130 - acc: 0.869 - ETA: 1s - loss: 0.3104 - acc: 0.871 - ETA: 1s - loss: 0.3125 - acc: 0.871 - ETA: 1s - loss: 0.3242 - acc: 0.863 - ETA: 1s - loss: 0.3229 - acc: 0.864 - ETA: 1s - loss: 0.3231 - acc: 0.863 - ETA: 1s - loss: 0.3230 - acc: 0.861 - ETA: 1s - loss: 0.3215 - acc: 0.863 - ETA: 0s - loss: 0.3239 - acc: 0.861 - ETA: 0s - loss: 0.3275 - acc: 0.858 - ETA: 0s - loss: 0.3253 - acc: 0.859 - ETA: 0s - loss: 0.3244 - acc: 0.860 - ETA: 0s - loss: 0.3235 - acc: 0.861 - ETA: 0s - loss: 0.3248 - acc: 0.860 - ETA: 0s - loss: 0.3238 - acc: 0.862 - ETA: 0s - loss: 0.3222 - acc: 0.863 - ETA: 0s - loss: 0.3216 - acc: 0.863 - ETA: 0s - loss: 0.3230 - acc: 0.862 - ETA: 0s - loss: 0.3248 - acc: 0.860 - ETA: 0s - loss: 0.3239 - acc: 0.861 - ETA: 0s - loss: 0.3251 - acc: 0.860 - 2s 205us/step - loss: 0.3247 - acc: 0.8606 - val_loss: 0.6904 - val_acc: 0.6995\n",
      "Epoch 19/19\n",
      "12000/12000 [==============================] - ETA: 2s - loss: 0.3699 - acc: 0.855 - ETA: 2s - loss: 0.3403 - acc: 0.859 - ETA: 2s - loss: 0.3231 - acc: 0.862 - ETA: 2s - loss: 0.2945 - acc: 0.878 - ETA: 1s - loss: 0.2955 - acc: 0.881 - ETA: 1s - loss: 0.3138 - acc: 0.866 - ETA: 1s - loss: 0.3188 - acc: 0.864 - ETA: 1s - loss: 0.3150 - acc: 0.868 - ETA: 1s - loss: 0.3093 - acc: 0.872 - ETA: 1s - loss: 0.3048 - acc: 0.873 - ETA: 1s - loss: 0.3026 - acc: 0.875 - ETA: 1s - loss: 0.3027 - acc: 0.875 - ETA: 1s - loss: 0.3007 - acc: 0.875 - ETA: 1s - loss: 0.3012 - acc: 0.875 - ETA: 1s - loss: 0.2995 - acc: 0.875 - ETA: 1s - loss: 0.3000 - acc: 0.874 - ETA: 0s - loss: 0.3037 - acc: 0.873 - ETA: 0s - loss: 0.3031 - acc: 0.874 - ETA: 0s - loss: 0.3043 - acc: 0.873 - ETA: 0s - loss: 0.3041 - acc: 0.873 - ETA: 0s - loss: 0.3036 - acc: 0.874 - ETA: 0s - loss: 0.3011 - acc: 0.875 - ETA: 0s - loss: 0.3014 - acc: 0.875 - ETA: 0s - loss: 0.3047 - acc: 0.872 - ETA: 0s - loss: 0.3042 - acc: 0.873 - ETA: 0s - loss: 0.3033 - acc: 0.874 - 2s 201us/step - loss: 0.3038 - acc: 0.8740 - val_loss: 0.6722 - val_acc: 0.7100\n"
     ]
    }
   ],
   "source": [
    "model = models.Sequential()\n",
    "model.add(layers.Dense(20, activation='relu', input_shape=(35,1024,)))\n",
    "model.add(layers.Flatten())\n",
    "model.add(layers.Dense(20, activation='relu'))\n",
    "model.add(layers.Dense(1, activation='sigmoid'))\n",
    "model.compile(optimizer=optimizers.RMSprop(lr=0.001),\n",
    "              loss=losses.binary_crossentropy,\n",
    "              metrics=[metrics.binary_accuracy])\n",
    "model.compile(optimizer='rmsprop',\n",
    "              loss='binary_crossentropy',\n",
    "              metrics=['acc'])\n",
    "print(model.summary())\n",
    "history = model.fit(train_embedding_matrix,\n",
    "                    train_label,\n",
    "                    epochs=19,\n",
    "                    batch_size=256,\n",
    "                    validation_data=(val_embedding_matrix, val_label), verbose=1)"
   ]
  },
  {
   "cell_type": "markdown",
   "metadata": {
    "colab_type": "text",
    "id": "lBJHSsz0Fsma"
   },
   "source": [
    "**Plotting accuracy and loss in the training phase**"
   ]
  },
  {
   "cell_type": "code",
   "execution_count": 14,
   "metadata": {
    "colab": {},
    "colab_type": "code",
    "id": "i71_7nKT-8GT",
    "outputId": "98650f4f-2b93-4075-f336-c9cceaa31bdb"
   },
   "outputs": [
    {
     "data": {
      "image/png": "[encoded data removed]",
      "text/plain": [
       "<Figure size 432x288 with 1 Axes>"
      ]
     },
     "metadata": {
      "needs_background": "light"
     },
     "output_type": "display_data"
    },
    {
     "data": {
      "image/png": "[encoded data removed]",
      "text/plain": [
       "<Figure size 432x288 with 1 Axes>"
      ]
     },
     "metadata": {
      "needs_background": "light"
     },
     "output_type": "display_data"
    }
   ],
   "source": [
    "# Loss plot\n",
    "history_dict = history.history\n",
    "loss_values = history_dict['loss']\n",
    "val_loss_values = history_dict['val_loss']\n",
    "epochs = range(1, len(loss_values) + 1)\n",
    "plt.plot(epochs, loss_values, 'bo', label='Training loss')\n",
    "plt.plot(epochs, val_loss_values, 'b', label='Validation loss')\n",
    "plt.title('Training and validation loss')\n",
    "plt.xlabel('Epochs')\n",
    "plt.ylabel('Loss')\n",
    "plt.legend()\n",
    "plt.show()\n",
    "\n",
    "# Accuracy plot\n",
    "plt.clf()\n",
    "acc_values = history_dict['acc']\n",
    "val_acc_values = history_dict['val_acc']\n",
    "plt.plot(epochs, acc_values, 'bo', label='Training acc')\n",
    "plt.plot(epochs, val_acc_values, 'b', label='Validation acc')\n",
    "plt.title('Training and validation accuracy')\n",
    "plt.xlabel('Epochs')\n",
    "plt.ylabel('Loss')\n",
    "plt.legend()\n",
    "plt.show()"
   ]
  },
  {
   "cell_type": "markdown",
   "metadata": {
    "colab_type": "text",
    "id": "i4qpCeaKFxAP"
   },
   "source": [
    "**Evaluating model on test data**"
   ]
  },
  {
   "cell_type": "code",
   "execution_count": 24,
   "metadata": {
    "colab": {},
    "colab_type": "code",
    "id": "jKqAJkvR-8Ga",
    "outputId": "05783910-7070-4a20-808f-f3e2b175df40"
   },
   "outputs": [
    {
     "name": "stdout",
     "output_type": "stream",
     "text": [
      "Evaluate\n",
      "359/359 [==============================] - ETA:  - ETA:  - 0s 281us/step\n",
      "Loss:  0.7127544417520751\n",
      "Accuracy:  0.6824512538139534\n"
     ]
    }
   ],
   "source": [
    "print(\"Evaluate\")\n",
    "test_label = np.asarray(test_label)\n",
    "test_embedding_matrix = np.asarray(e.sents2elmo(fill_list(test_data)))\n",
    "results = model.evaluate(test_embedding_matrix, test_label)\n",
    "print(\"Loss: \", results[0])\n",
    "print(\"Accuracy: \", results[1])"
   ]
  },
  {
   "cell_type": "markdown",
   "metadata": {
    "colab_type": "text",
    "id": "yvNCTYn3GB-2"
   },
   "source": [
    "**Results**\n",
    "\n",
    "We trained our network on 14.000 samples (12.000 training and 2000 validation samples) and used the word embedding vectors obtained by ELMo. Due to ELMo's large number of embedding dimensions (1024) and our limited hardware, we only trained on a 100th of the available training data. We achieved accuracies in-between 68%-72%, which is relatively disappointing compared to the lower-dimensional ConceptNet word embeddings. It would be interesting to train the network on more samples however. "
   ]
  }
 ],
 "metadata": {
  "colab": {
   "collapsed_sections": [],
   "name": "conceptnet_embedding.ipynb",
   "provenance": [],
   "version": "0.3.2"
  },
  "kernelspec": {
   "display_name": "Python 3",
   "language": "python",
   "name": "python3"
  },
  "language_info": {
   "codemirror_mode": {
    "name": "ipython",
    "version": 3
   },
   "file_extension": ".py",
   "mimetype": "text/x-python",
   "name": "python",
   "nbconvert_exporter": "python",
   "pygments_lexer": "ipython3",
   "version": "3.7.4"
  }
 },
 "nbformat": 4,
 "nbformat_minor": 1
}
