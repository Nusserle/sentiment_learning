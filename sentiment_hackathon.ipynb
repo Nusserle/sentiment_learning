{
  "nbformat": 4,
  "nbformat_minor": 0,
  "metadata": {
    "colab": {
      "name": "Copy of sentiment.ipynb",
      "version": "0.3.2",
      "provenance": [],
      "collapsed_sections": [],
      "machine_shape": "hm",
      "include_colab_link": true
    },
    "kernelspec": {
      "name": "python3",
      "display_name": "Python 3"
    },
    "language_info": {
      "codemirror_mode": {
        "name": "ipython",
        "version": 3
      },
      "file_extension": ".py",
      "mimetype": "text/x-python",
      "name": "python",
      "nbconvert_exporter": "python",
      "pygments_lexer": "ipython3",
      "version": "3.7.4"
    },
    "accelerator": "GPU"
  },
  "cells": [
    {
      "cell_type": "markdown",
      "metadata": {
        "id": "view-in-github",
        "colab_type": "text"
      },
      "source": [
        "<a href=\"https://colab.research.google.com/github/Nusserle/sentiment_learning/blob/master/sentiment_hackathon.ipynb\" target=\"_parent\"><img src=\"https://colab.research.google.com/assets/colab-badge.svg\" alt=\"Open In Colab\"/></a>"
      ]
    },
    {
      "cell_type": "markdown",
      "metadata": {
        "colab_type": "text",
        "id": "N73feXO0B1dm"
      },
      "source": [
        "**Imports**"
      ]
    },
    {
      "cell_type": "code",
      "metadata": {
        "colab_type": "code",
        "id": "FUZ4J5iVC8BY",
        "outputId": "799f894b-2591-42e6-f5b1-fda4d7d72f03",
        "colab": {
          "base_uri": "https://localhost:8080/",
          "height": 85
        }
      },
      "source": [
        "import os\n",
        "import random\n",
        "\n",
        "import tensorflow as tf\n",
        "from tensorflow import keras\n",
        "from keras import models\n",
        "from keras import layers\n",
        "from keras import optimizers\n",
        "from keras import losses\n",
        "from keras import metrics\n",
        "import numpy as np\n",
        "import matplotlib.pyplot as plt\n",
        "import csv\n",
        "import re\n",
        "import nltk\n",
        "nltk.download('punkt')"
      ],
      "execution_count": 1,
      "outputs": [
        {
          "output_type": "stream",
          "text": [
            "Using TensorFlow backend.\n"
          ],
          "name": "stderr"
        },
        {
          "output_type": "stream",
          "text": [
            "[nltk_data] Downloading package punkt to /root/nltk_data...\n",
            "[nltk_data]   Package punkt is already up-to-date!\n"
          ],
          "name": "stdout"
        },
        {
          "output_type": "execute_result",
          "data": {
            "text/plain": [
              "True"
            ]
          },
          "metadata": {
            "tags": []
          },
          "execution_count": 1
        }
      ]
    },
    {
      "cell_type": "markdown",
      "metadata": {
        "colab_type": "text",
        "id": "KmuPGzlqDBxn"
      },
      "source": [
        "**Functions**"
      ]
    },
    {
      "cell_type": "code",
      "metadata": {
        "colab_type": "code",
        "id": "a8P9CTPQ-8Ff",
        "scrolled": true,
        "colab": {}
      },
      "source": [
        "def read_in(path_to_file):\n",
        "    \"\"\"\n",
        "    Reads in training and test data and removes all neutral tweets\n",
        "    from test data because the training data lacks neutral.\n",
        "    Due to hardware restrictions we used only 1/10th of the available \n",
        "    training dataset (160.000 tweets)\n",
        "    \"\"\"\n",
        "    out = []\n",
        "    with open(path_to_file, encoding='latin-1') as csv_file:\n",
        "        csv_reader = csv.reader(csv_file, delimiter=',')\n",
        "        next(csv_reader)\n",
        "        for row in csv_reader:\n",
        "            out.append([row[1], row[2]])\n",
        "    return out\n",
        "\n",
        "def read_in2(path_to_file):\n",
        "  out = []\n",
        "  with open(path_to_file, encoding='latin-1') as csv_file:\n",
        "        csv_reader = csv.reader(csv_file, delimiter=',')\n",
        "        next(csv_reader)\n",
        "        for row in csv_reader:\n",
        "          if row.__len__() > 0:\n",
        "            out.append([row[0], row[1]])\n",
        "  return out\n",
        "\n",
        "\n",
        "def preprocess(data):\n",
        "    \"\"\"\n",
        "    Preprocesses and tokenizes data\n",
        "    \"\"\"\n",
        "    label = []\n",
        "    tweet = []\n",
        "    print(\"Preprocessing...\")\n",
        "    for row in data:\n",
        "        cleaned = clean_regex(row[1])\n",
        "        if cleaned.__len__() > 1:\n",
        "            if row[0] == \"0\":\n",
        "                label.append(0)\n",
        "            else:\n",
        "                label.append(1)\n",
        "            tokenized = nltk.word_tokenize(cleaned)\n",
        "            # pos_tagged = nltk.pos_tag(tokenized)\n",
        "            tweet.append(tokenized)\n",
        "    print(\"Done\")\n",
        "    return tweet, label\n",
        "\n",
        "def preprocess2(data):\n",
        "    \"\"\"\n",
        "    Preprocesses and tokenizes data\n",
        "    \"\"\"\n",
        "    ids = []\n",
        "    tweet = []\n",
        "    print(\"Preprocessing...\")\n",
        "    for row in data:\n",
        "        cleaned = clean_regex(row[1].lower())\n",
        "        if cleaned.__len__() > 1:\n",
        "            tokenized = nltk.word_tokenize(cleaned)\n",
        "            # pos_tagged = nltk.pos_tag(tokenized)\n",
        "            tweet.append(tokenized)\n",
        "            ids.append(row[0])\n",
        "    print(\"Done\")\n",
        "    return tweet, ids\n",
        "\n",
        "\n",
        "def clean_regex(tweet):\n",
        "    \"\"\"\n",
        "    Regex that removes links to other users, and all hyperlink mentions\n",
        "    \"\"\"\n",
        "    hashtags = re.findall('#[a-z]*?[A-Z][A-Z|a-z]*', tweet)\n",
        "    for hashtag in hashtags:\n",
        "      replacement = ' '.join(re.sub( r\"([A-Z])\", r\" \\1\", hashtag).split())\n",
        "      tweet = tweet.replace(hashtag, replacement).lower()\n",
        "    cleaned0 = re.sub('\\$&@\\*#', 'fuck', tweet)\n",
        "    cleaned1 = re.sub('@.*?(?:\\s|$)', '', cleaned0)\n",
        "    cleaned2 = re.sub('http.*?(?:\\s|$)', '', cleaned1)\n",
        "    cleaned3 = re.sub('www.*?(?:\\s|$)', '', cleaned2)\n",
        "    cleaned4 = re.sub('#','', cleaned3)\n",
        "    return cleaned4\n",
        "\n",
        "def parse_to_dict(file_path):\n",
        "    \"\"\"\n",
        "    Creates hashmap with word as key and concept vector as value\n",
        "    :param file_path: path to the conceptnet dictionary file\n",
        "    :return: hashmap of word and vectors\n",
        "    \"\"\"\n",
        "    concept_hash = {}\n",
        "    with open(file_path, encoding=\"utf8\") as f:\n",
        "        text = f.readlines()[1:]\n",
        "        for line in text:\n",
        "            first_item = line.split(\" \").__getitem__(0)\n",
        "            concept_hash[first_item] = line\n",
        "    f.close()\n",
        "    return concept_hash\n",
        "\n",
        "def find_word(word, concept_hash):\n",
        "    \"\"\"\n",
        "    Finds conceptnet vector for a word in the conceptnet hashmap\n",
        "    :param word: input word to analyze\n",
        "    :param concept_hash: hashmap of word and conceptnet vector\n",
        "    :return: returns the appropriate vector or none if its not in the hashmap\n",
        "    \"\"\"\n",
        "    if word in concept_hash.keys():\n",
        "        vector = concept_hash[word].split(\" \")[1:]\n",
        "        vector = [float(i) for i in vector]\n",
        "    else:\n",
        "        vector = None\n",
        "    return vector\n",
        "  \n",
        "def get_embeddings(sentences):\n",
        "    \"\"\"\n",
        "    Retrieves a 300 dim. embedding vector from ConceptNet for each word \n",
        "    of a sentence. (Only retrieves the first 40 words (tokens) of a tweet)\n",
        "    \"\"\"\n",
        "    max_words = 60\n",
        "    results = np.zeros((len(sentences), max_words, 300))\n",
        "    for i, sent in enumerate(sentences):\n",
        "        if i % 25000 == 0:\n",
        "            print(str(i))\n",
        "        for j, word in enumerate(sent):\n",
        "            if j < max_words:\n",
        "                embedding = find_word(word.lower(), concept_hash)\n",
        "                if embedding is not None:\n",
        "                    for k, val in enumerate(embedding):\n",
        "                        results[i][j][k] = val\n",
        "                else:\n",
        "                    for k in range(300):\n",
        "                        results[i][j][k] = 0.0\n",
        "    return results\n",
        "\n",
        "def fill_list(data, max_dim=35):\n",
        "  \"\"\"\n",
        "  Fills or cuts list of tokens for a tweet at 35, to ensure consistent vector dimensions\n",
        "  \"\"\"\n",
        "  res = []\n",
        "  for row in data:\n",
        "      copy = row\n",
        "      if len(row) < max_dim:\n",
        "          copy += [''] * (max_dim - len(row))\n",
        "      elif len(row) > max_dim:\n",
        "          copy = row[:max_dim]   \n",
        "      res.append(copy)\n",
        "  return res\n",
        "\n",
        "#def write_to_file(file_name, data, label):\n",
        "#  f= open(\"preprocessed\",\"w+\")\n"
      ],
      "execution_count": 0,
      "outputs": []
    },
    {
      "cell_type": "code",
      "metadata": {
        "id": "aEAwUJF_rvpl",
        "colab_type": "code",
        "colab": {}
      },
      "source": [
        "from google.colab import files\n",
        "files.upload()"
      ],
      "execution_count": 0,
      "outputs": []
    },
    {
      "cell_type": "code",
      "metadata": {
        "id": "oU4UbBu47EuK",
        "colab_type": "code",
        "colab": {}
      },
      "source": [
        "!git clone https://github.com/HIT-SCIR/ELMoForManyLangs\n",
        "!pip install allennlp\n",
        "%cd ELMoForManyLangs/\n",
        "%ls\n",
        "!python setup.py install\n",
        "!wget http://vectors.nlpl.eu/repository/11/144.zip\n",
        "!unzip 144.zip\n",
        "%rm \"config.json\""
      ],
      "execution_count": 0,
      "outputs": []
    },
    {
      "cell_type": "code",
      "metadata": {
        "id": "_sQ_sxdh7Spo",
        "colab_type": "code",
        "colab": {}
      },
      "source": [
        "from google.colab import files\n",
        "files.upload()"
      ],
      "execution_count": 0,
      "outputs": []
    },
    {
      "cell_type": "code",
      "metadata": {
        "id": "gnwGVkGcALlp",
        "colab_type": "code",
        "outputId": "9aada3b7-7433-421c-80a7-3ee6a9ba2bdd",
        "colab": {
          "base_uri": "https://localhost:8080/",
          "height": 34
        }
      },
      "source": [
        "%cd .."
      ],
      "execution_count": 0,
      "outputs": [
        {
          "output_type": "stream",
          "text": [
            "/content\n"
          ],
          "name": "stdout"
        }
      ]
    },
    {
      "cell_type": "code",
      "metadata": {
        "id": "7ewIvw9q7RoI",
        "colab_type": "code",
        "colab": {}
      },
      "source": [
        "from elmoformanylangs import Embedder\n",
        "e = Embedder('ELMoForManyLangs/')"
      ],
      "execution_count": 0,
      "outputs": []
    },
    {
      "cell_type": "code",
      "metadata": {
        "id": "kDDtn73CdVvZ",
        "colab_type": "code",
        "colab": {}
      },
      "source": [
        "pip install bert-embedding"
      ],
      "execution_count": 0,
      "outputs": []
    },
    {
      "cell_type": "code",
      "metadata": {
        "id": "DoGJKvc-deJZ",
        "colab_type": "code",
        "colab": {}
      },
      "source": [
        "from bert_embedding import BertEmbedding\n",
        "bert_embedding = BertEmbedding()"
      ],
      "execution_count": 0,
      "outputs": []
    },
    {
      "cell_type": "code",
      "metadata": {
        "id": "8SNjilQOdpif",
        "colab_type": "code",
        "colab": {}
      },
      "source": [
        "bert_embedding([\"This is a test sentence\", \"This as well\"] )"
      ],
      "execution_count": 0,
      "outputs": []
    },
    {
      "cell_type": "markdown",
      "metadata": {
        "colab_type": "text",
        "id": "OR6UBl8iELLd"
      },
      "source": [
        "**Preprocessing**"
      ]
    },
    {
      "cell_type": "code",
      "metadata": {
        "colab_type": "code",
        "id": "BCjUYOPE-8Fw",
        "outputId": "5899d85a-97e7-4d1d-8d06-304461aadcfd",
        "colab": {
          "base_uri": "https://localhost:8080/",
          "height": 85
        }
      },
      "source": [
        "\n",
        "#base_path = \"C:/Users/Tobias.Nusser/PycharmProjects/sentiment_learning\"\n",
        "#base_path = os.getcwd()\n",
        "# 140.000 entries\n",
        "training_data, training_label = preprocess(read_in(\"train_2kmZucJ.csv\"))\n",
        "test_data, test_label = preprocess2(read_in2(\"test_oJQbWVk.csv\"))"
      ],
      "execution_count": 28,
      "outputs": [
        {
          "output_type": "stream",
          "text": [
            "Preprocessing...\n",
            "Done\n",
            "Preprocessing...\n",
            "Done\n"
          ],
          "name": "stdout"
        }
      ]
    },
    {
      "cell_type": "code",
      "metadata": {
        "id": "jUopvyieV_fE",
        "colab_type": "code",
        "colab": {}
      },
      "source": [
        "def build_model():\n",
        "  model = models.Sequential()\n",
        "  model.add(layers.Dense(60, activation='relu', input_shape=(60,300,)))\n",
        "  model.add(layers.Flatten())\n",
        "  model.add(layers.Dropout(0.5))\n",
        "  model.add(layers.Dense(60, activation='relu'))\n",
        "  model.add(layers.Dropout(0.3))\n",
        "  model.add(layers.Dense(1, activation='sigmoid'))\n",
        "  model.compile(optimizer='adam',\n",
        "                loss='binary_crossentropy',\n",
        "                metrics=['acc'])\n",
        "  return model"
      ],
      "execution_count": 0,
      "outputs": []
    },
    {
      "cell_type": "markdown",
      "metadata": {
        "colab_type": "text",
        "id": "LhcImR4yEffg"
      },
      "source": [
        "**Split into training and validation set**"
      ]
    },
    {
      "cell_type": "code",
      "metadata": {
        "colab_type": "code",
        "id": "PN1KLbJw-8F5",
        "colab": {}
      },
      "source": [
        "split_at = 7000\n",
        "train_data = training_data[:split_at]\n",
        "train_label = np.asarray(training_label[:split_at])\n",
        "val_data = training_data[split_at:]\n",
        "val_label = np.asarray(training_label[split_at:])"
      ],
      "execution_count": 0,
      "outputs": []
    },
    {
      "cell_type": "code",
      "metadata": {
        "id": "fO9pv-lm9bbu",
        "colab_type": "code",
        "colab": {}
      },
      "source": [
        "train_embedding_matrix = np.asarray(e.sents2elmo(fill_list(train_data)))\n",
        "val_embedding_matrix = np.asarray(e.sents2elmo(fill_list(val_data)))"
      ],
      "execution_count": 0,
      "outputs": []
    },
    {
      "cell_type": "code",
      "metadata": {
        "id": "HpvkssNceY3x",
        "colab_type": "code",
        "outputId": "262fc43b-785c-4206-fcb8-b429ccfb9eec",
        "colab": {
          "base_uri": "https://localhost:8080/",
          "height": 442
        }
      },
      "source": [
        "out_array = np.zeros(shape=(train_data.__len__(),10,768))\n",
        "for i, row in enumerate(train_data):\n",
        "  if i % 5 == 0:\n",
        "    print(i)\n",
        "  vec = bert_embedding(row)\n",
        "  for j, word_vec in enumerate(vec):\n",
        "    if j < 10:\n",
        "      out_array[i][j] = word_vec[1][0]\n",
        "  #print(type(bert_embedding(row)[0]))\n",
        "#train_embedding_matrix = bert_embedding(fill_list(train_data))\n",
        "#val_embedding_matrix = bert_embedding(fill_list(val_data))"
      ],
      "execution_count": 0,
      "outputs": [
        {
          "output_type": "stream",
          "text": [
            "0\n",
            "5\n",
            "10\n",
            "15\n"
          ],
          "name": "stdout"
        },
        {
          "output_type": "error",
          "ename": "KeyboardInterrupt",
          "evalue": "ignored",
          "traceback": [
            "\u001b[0;31m---------------------------------------------------------------------------\u001b[0m",
            "\u001b[0;31mKeyboardInterrupt\u001b[0m                         Traceback (most recent call last)",
            "\u001b[0;32m<ipython-input-11-1aa775a2965e>\u001b[0m in \u001b[0;36m<module>\u001b[0;34m()\u001b[0m\n\u001b[1;32m      3\u001b[0m   \u001b[0;32mif\u001b[0m \u001b[0mi\u001b[0m \u001b[0;34m%\u001b[0m \u001b[0;36m5\u001b[0m \u001b[0;34m==\u001b[0m \u001b[0;36m0\u001b[0m\u001b[0;34m:\u001b[0m\u001b[0;34m\u001b[0m\u001b[0;34m\u001b[0m\u001b[0m\n\u001b[1;32m      4\u001b[0m     \u001b[0mprint\u001b[0m\u001b[0;34m(\u001b[0m\u001b[0mi\u001b[0m\u001b[0;34m)\u001b[0m\u001b[0;34m\u001b[0m\u001b[0;34m\u001b[0m\u001b[0m\n\u001b[0;32m----> 5\u001b[0;31m   \u001b[0mvec\u001b[0m \u001b[0;34m=\u001b[0m \u001b[0mbert_embedding\u001b[0m\u001b[0;34m(\u001b[0m\u001b[0mrow\u001b[0m\u001b[0;34m)\u001b[0m\u001b[0;34m\u001b[0m\u001b[0;34m\u001b[0m\u001b[0m\n\u001b[0m\u001b[1;32m      6\u001b[0m   \u001b[0;32mfor\u001b[0m \u001b[0mj\u001b[0m\u001b[0;34m,\u001b[0m \u001b[0mword_vec\u001b[0m \u001b[0;32min\u001b[0m \u001b[0menumerate\u001b[0m\u001b[0;34m(\u001b[0m\u001b[0mvec\u001b[0m\u001b[0;34m)\u001b[0m\u001b[0;34m:\u001b[0m\u001b[0;34m\u001b[0m\u001b[0;34m\u001b[0m\u001b[0m\n\u001b[1;32m      7\u001b[0m     \u001b[0;32mif\u001b[0m \u001b[0mj\u001b[0m \u001b[0;34m<\u001b[0m \u001b[0;36m10\u001b[0m\u001b[0;34m:\u001b[0m\u001b[0;34m\u001b[0m\u001b[0;34m\u001b[0m\u001b[0m\n",
            "\u001b[0;32m/usr/local/lib/python3.6/dist-packages/bert_embedding/bert.py\u001b[0m in \u001b[0;36m__call__\u001b[0;34m(self, sentences, oov_way)\u001b[0m\n\u001b[1;32m    108\u001b[0m             \u001b[0mList\u001b[0m \u001b[0mof\u001b[0m \u001b[0mtokens\u001b[0m\u001b[0;34m,\u001b[0m \u001b[0;32mand\u001b[0m \u001b[0mtokens\u001b[0m \u001b[0membedding\u001b[0m\u001b[0;34m\u001b[0m\u001b[0;34m\u001b[0m\u001b[0m\n\u001b[1;32m    109\u001b[0m         \"\"\"\n\u001b[0;32m--> 110\u001b[0;31m         \u001b[0;32mreturn\u001b[0m \u001b[0mself\u001b[0m\u001b[0;34m.\u001b[0m\u001b[0membedding\u001b[0m\u001b[0;34m(\u001b[0m\u001b[0msentences\u001b[0m\u001b[0;34m,\u001b[0m \u001b[0moov_way\u001b[0m\u001b[0;34m=\u001b[0m\u001b[0;34m'avg'\u001b[0m\u001b[0;34m)\u001b[0m\u001b[0;34m\u001b[0m\u001b[0;34m\u001b[0m\u001b[0m\n\u001b[0m\u001b[1;32m    111\u001b[0m \u001b[0;34m\u001b[0m\u001b[0m\n\u001b[1;32m    112\u001b[0m     \u001b[0;32mdef\u001b[0m \u001b[0membedding\u001b[0m\u001b[0;34m(\u001b[0m\u001b[0mself\u001b[0m\u001b[0;34m,\u001b[0m \u001b[0msentences\u001b[0m\u001b[0;34m,\u001b[0m \u001b[0moov_way\u001b[0m\u001b[0;34m=\u001b[0m\u001b[0;34m'avg'\u001b[0m\u001b[0;34m)\u001b[0m\u001b[0;34m:\u001b[0m\u001b[0;34m\u001b[0m\u001b[0;34m\u001b[0m\u001b[0m\n",
            "\u001b[0;32m/usr/local/lib/python3.6/dist-packages/bert_embedding/bert.py\u001b[0m in \u001b[0;36membedding\u001b[0;34m(self, sentences, oov_way)\u001b[0m\n\u001b[1;32m    136\u001b[0m                                          valid_length.astype(self.dtype))\n\u001b[1;32m    137\u001b[0m             for token_id, sequence_output in zip(token_ids.asnumpy(),\n\u001b[0;32m--> 138\u001b[0;31m                                                  sequence_outputs.asnumpy()):\n\u001b[0m\u001b[1;32m    139\u001b[0m                 \u001b[0mbatches\u001b[0m\u001b[0;34m.\u001b[0m\u001b[0mappend\u001b[0m\u001b[0;34m(\u001b[0m\u001b[0;34m(\u001b[0m\u001b[0mtoken_id\u001b[0m\u001b[0;34m,\u001b[0m \u001b[0msequence_output\u001b[0m\u001b[0;34m)\u001b[0m\u001b[0;34m)\u001b[0m\u001b[0;34m\u001b[0m\u001b[0;34m\u001b[0m\u001b[0m\n\u001b[1;32m    140\u001b[0m         \u001b[0;32mreturn\u001b[0m \u001b[0mself\u001b[0m\u001b[0;34m.\u001b[0m\u001b[0moov\u001b[0m\u001b[0;34m(\u001b[0m\u001b[0mbatches\u001b[0m\u001b[0;34m,\u001b[0m \u001b[0moov_way\u001b[0m\u001b[0;34m)\u001b[0m\u001b[0;34m\u001b[0m\u001b[0;34m\u001b[0m\u001b[0m\n",
            "\u001b[0;32m/usr/local/lib/python3.6/dist-packages/mxnet/ndarray/ndarray.py\u001b[0m in \u001b[0;36masnumpy\u001b[0;34m(self)\u001b[0m\n\u001b[1;32m   1978\u001b[0m             \u001b[0mself\u001b[0m\u001b[0;34m.\u001b[0m\u001b[0mhandle\u001b[0m\u001b[0;34m,\u001b[0m\u001b[0;34m\u001b[0m\u001b[0;34m\u001b[0m\u001b[0m\n\u001b[1;32m   1979\u001b[0m             \u001b[0mdata\u001b[0m\u001b[0;34m.\u001b[0m\u001b[0mctypes\u001b[0m\u001b[0;34m.\u001b[0m\u001b[0mdata_as\u001b[0m\u001b[0;34m(\u001b[0m\u001b[0mctypes\u001b[0m\u001b[0;34m.\u001b[0m\u001b[0mc_void_p\u001b[0m\u001b[0;34m)\u001b[0m\u001b[0;34m,\u001b[0m\u001b[0;34m\u001b[0m\u001b[0;34m\u001b[0m\u001b[0m\n\u001b[0;32m-> 1980\u001b[0;31m             ctypes.c_size_t(data.size)))\n\u001b[0m\u001b[1;32m   1981\u001b[0m         \u001b[0;32mreturn\u001b[0m \u001b[0mdata\u001b[0m\u001b[0;34m\u001b[0m\u001b[0;34m\u001b[0m\u001b[0m\n\u001b[1;32m   1982\u001b[0m \u001b[0;34m\u001b[0m\u001b[0m\n",
            "\u001b[0;31mKeyboardInterrupt\u001b[0m: "
          ]
        }
      ]
    },
    {
      "cell_type": "code",
      "metadata": {
        "id": "HLlop0f7t3WF",
        "colab_type": "code",
        "colab": {}
      },
      "source": [
        "\n",
        "file = !wget https://conceptnet.s3.amazonaws.com/downloads/2017/numberbatch/numberbatch-en-17.06.txt.gz\n",
        "  \n",
        "import gzip\n",
        "import shutil\n",
        "with gzip.open(\"numberbatch-en-17.06.txt.gz\",'rb') as f_in:\n",
        "    with open('numberbatch-en.txt','wb') as f_out:\n",
        "        shutil.copyfileobj(f_in, f_out)"
      ],
      "execution_count": 0,
      "outputs": []
    },
    {
      "cell_type": "markdown",
      "metadata": {
        "colab_type": "text",
        "id": "E14AgChEEsFo"
      },
      "source": [
        "**Load ConceptNet word embeddings in RAM**"
      ]
    },
    {
      "cell_type": "code",
      "metadata": {
        "colab_type": "code",
        "id": "cPthA2B8-8F_",
        "colab": {}
      },
      "source": [
        "concept_hash = parse_to_dict(\"numberbatch-en.txt\")"
      ],
      "execution_count": 0,
      "outputs": []
    },
    {
      "cell_type": "markdown",
      "metadata": {
        "colab_type": "text",
        "id": "HcwoMKS5EqEJ"
      },
      "source": [
        "**Retrieve word embedding vectors for training and validation data**"
      ]
    },
    {
      "cell_type": "code",
      "metadata": {
        "colab_type": "code",
        "id": "rCoE24vc-8GJ",
        "outputId": "a98e9d89-b63a-4cef-81e9-8043a228dbc7",
        "colab": {
          "base_uri": "https://localhost:8080/",
          "height": 51
        }
      },
      "source": [
        "train_embedding_matrix = get_embeddings(train_data)\n",
        "val_embedding_matrix = get_embeddings(val_data)"
      ],
      "execution_count": 30,
      "outputs": [
        {
          "output_type": "stream",
          "text": [
            "0\n",
            "0\n"
          ],
          "name": "stdout"
        }
      ]
    },
    {
      "cell_type": "code",
      "metadata": {
        "id": "LKaKQ_gLY-fL",
        "colab_type": "code",
        "outputId": "484cee2a-4223-4c6a-c65c-8bf9e3d0555f",
        "colab": {
          "base_uri": "https://localhost:8080/",
          "height": 68
        }
      },
      "source": [
        "print(train_embedding_matrix.dtype)\n",
        "print(train_embedding_matrix.shape)\n",
        "print(val_embedding_matrix.shape)"
      ],
      "execution_count": 0,
      "outputs": [
        {
          "output_type": "stream",
          "text": [
            "float64\n",
            "(7000, 60, 300)\n",
            "(920, 60, 300)\n"
          ],
          "name": "stdout"
        }
      ]
    },
    {
      "cell_type": "markdown",
      "metadata": {
        "colab_type": "text",
        "id": "pyaBbliRE7JL"
      },
      "source": [
        "**Neural Network Model**\n",
        "\n",
        "Sequential model with three Dense Layers and one Flatten layer to flatten 3D input matrix.\n",
        "*Relu* as activation function and simple *sigmoid* function for the output layer. Because of the binary classification task we used a simple *accuracy* metric and *binary crossentropy* as loss function. As optimizer we used *rmsprop*, which performed best according to some tests."
      ]
    },
    {
      "cell_type": "code",
      "metadata": {
        "colab_type": "code",
        "id": "Sk5GifBm-8GO",
        "outputId": "8ea5c94b-c14b-43a3-d4f7-36d5505f6010",
        "colab": {
          "base_uri": "https://localhost:8080/",
          "height": 1000
        }
      },
      "source": [
        "from keras.callbacks import ModelCheckpoint\n",
        "\n",
        "model = models.Sequential()\n",
        "model.add(layers.LSTM(64, activation='tanh' ,input_shape=(60,300,)))\n",
        "#model.add(layers.GRU(64, activation='tanh', input_shape=(60,300,)))\n",
        "#model.add(layers.Flatten())\n",
        "#model.add(layers.Dropout(0.1))\n",
        "model.add(layers.Dense(64, activation='relu'))\n",
        "#model.add(layers.Dropout(0.1))\n",
        "model.add(layers.Dense(1, activation='sigmoid'))\n",
        "model.compile(optimizer=optimizers.RMSprop(lr=0.00205),\n",
        "              loss=losses.binary_crossentropy,\n",
        "              metrics=[metrics.binary_accuracy])\n",
        "model.compile(optimizer=optimizers.RMSprop(lr=0.001),\n",
        "              loss='binary_crossentropy',\n",
        "              metrics=['acc'])\n",
        "print(model.summary())\n",
        "filepath=\"weights.best.hdf5\"\n",
        "checkpoint = ModelCheckpoint(filepath, monitor='val_acc', verbose=1, save_best_only=True, mode='max')\n",
        "callbacks_list = [checkpoint]\n",
        "history = model.fit(train_embedding_matrix,\n",
        "                    train_label,\n",
        "                    epochs=55,\n",
        "                    batch_size=512,\n",
        "                    validation_data=(val_embedding_matrix, val_label), verbose=1, callbacks=callbacks_list)"
      ],
      "execution_count": 0,
      "outputs": [
        {
          "output_type": "stream",
          "text": [
            "_________________________________________________________________\n",
            "Layer (type)                 Output Shape              Param #   \n",
            "=================================================================\n",
            "lstm_10 (LSTM)               (None, 60, 64)            93440     \n",
            "_________________________________________________________________\n",
            "gru_5 (GRU)                  (None, 64)                24768     \n",
            "_________________________________________________________________\n",
            "dense_26 (Dense)             (None, 64)                4160      \n",
            "_________________________________________________________________\n",
            "dense_27 (Dense)             (None, 1)                 65        \n",
            "=================================================================\n",
            "Total params: 122,433\n",
            "Trainable params: 122,433\n",
            "Non-trainable params: 0\n",
            "_________________________________________________________________\n",
            "None\n",
            "Train on 7000 samples, validate on 920 samples\n",
            "Epoch 1/55\n",
            "7000/7000 [==============================] - 7s 1ms/step - loss: 0.5911 - acc: 0.7190 - val_loss: 0.4047 - val_acc: 0.7522\n",
            "\n",
            "Epoch 00001: val_acc improved from -inf to 0.75217, saving model to weights.best.hdf5\n",
            "Epoch 2/55\n",
            "7000/7000 [==============================] - 3s 478us/step - loss: 0.3663 - acc: 0.8174 - val_loss: 0.3286 - val_acc: 0.8304\n",
            "\n",
            "Epoch 00002: val_acc improved from 0.75217 to 0.83043, saving model to weights.best.hdf5\n",
            "Epoch 3/55\n",
            "7000/7000 [==============================] - 3s 478us/step - loss: 0.3262 - acc: 0.8417 - val_loss: 0.3262 - val_acc: 0.8283\n",
            "\n",
            "Epoch 00003: val_acc did not improve from 0.83043\n",
            "Epoch 4/55\n",
            "7000/7000 [==============================] - 3s 474us/step - loss: 0.2933 - acc: 0.8639 - val_loss: 0.3050 - val_acc: 0.8348\n",
            "\n",
            "Epoch 00004: val_acc improved from 0.83043 to 0.83478, saving model to weights.best.hdf5\n",
            "Epoch 5/55\n",
            "7000/7000 [==============================] - 3s 471us/step - loss: 0.2788 - acc: 0.8720 - val_loss: 0.2917 - val_acc: 0.8674\n",
            "\n",
            "Epoch 00005: val_acc improved from 0.83478 to 0.86739, saving model to weights.best.hdf5\n",
            "Epoch 6/55\n",
            "7000/7000 [==============================] - 3s 478us/step - loss: 0.2708 - acc: 0.8784 - val_loss: 0.2591 - val_acc: 0.8870\n",
            "\n",
            "Epoch 00006: val_acc improved from 0.86739 to 0.88696, saving model to weights.best.hdf5\n",
            "Epoch 7/55\n",
            "7000/7000 [==============================] - 3s 474us/step - loss: 0.2748 - acc: 0.8784 - val_loss: 0.2743 - val_acc: 0.8707\n",
            "\n",
            "Epoch 00007: val_acc did not improve from 0.88696\n",
            "Epoch 8/55\n",
            "7000/7000 [==============================] - 3s 479us/step - loss: 0.2602 - acc: 0.8853 - val_loss: 0.2702 - val_acc: 0.8761\n",
            "\n",
            "Epoch 00008: val_acc did not improve from 0.88696\n",
            "Epoch 9/55\n",
            "7000/7000 [==============================] - 3s 475us/step - loss: 0.2594 - acc: 0.8810 - val_loss: 0.2516 - val_acc: 0.8913\n",
            "\n",
            "Epoch 00009: val_acc improved from 0.88696 to 0.89130, saving model to weights.best.hdf5\n",
            "Epoch 10/55\n",
            "7000/7000 [==============================] - 3s 473us/step - loss: 0.2595 - acc: 0.8884 - val_loss: 0.3062 - val_acc: 0.8772\n",
            "\n",
            "Epoch 00010: val_acc did not improve from 0.89130\n",
            "Epoch 11/55\n",
            "7000/7000 [==============================] - 3s 477us/step - loss: 0.2573 - acc: 0.8881 - val_loss: 0.2754 - val_acc: 0.8663\n",
            "\n",
            "Epoch 00011: val_acc did not improve from 0.89130\n",
            "Epoch 12/55\n",
            "7000/7000 [==============================] - 3s 472us/step - loss: 0.2543 - acc: 0.8899 - val_loss: 0.2689 - val_acc: 0.8761\n",
            "\n",
            "Epoch 00012: val_acc did not improve from 0.89130\n",
            "Epoch 13/55\n",
            "7000/7000 [==============================] - 3s 476us/step - loss: 0.2507 - acc: 0.8926 - val_loss: 0.2646 - val_acc: 0.8772\n",
            "\n",
            "Epoch 00013: val_acc did not improve from 0.89130\n",
            "Epoch 14/55\n",
            "7000/7000 [==============================] - 3s 477us/step - loss: 0.2529 - acc: 0.8864 - val_loss: 0.2469 - val_acc: 0.8859\n",
            "\n",
            "Epoch 00014: val_acc did not improve from 0.89130\n",
            "Epoch 15/55\n",
            "7000/7000 [==============================] - 3s 472us/step - loss: 0.2528 - acc: 0.8886 - val_loss: 0.2494 - val_acc: 0.8859\n",
            "\n",
            "Epoch 00015: val_acc did not improve from 0.89130\n",
            "Epoch 16/55\n",
            "7000/7000 [==============================] - 3s 477us/step - loss: 0.2430 - acc: 0.8947 - val_loss: 0.2578 - val_acc: 0.8837\n",
            "\n",
            "Epoch 00016: val_acc did not improve from 0.89130\n",
            "Epoch 17/55\n",
            "7000/7000 [==============================] - 3s 477us/step - loss: 0.2382 - acc: 0.9020 - val_loss: 0.2640 - val_acc: 0.8880\n",
            "\n",
            "Epoch 00017: val_acc did not improve from 0.89130\n",
            "Epoch 18/55\n",
            "7000/7000 [==============================] - 3s 475us/step - loss: 0.2497 - acc: 0.8860 - val_loss: 0.2521 - val_acc: 0.8913\n",
            "\n",
            "Epoch 00018: val_acc did not improve from 0.89130\n",
            "Epoch 19/55\n",
            "7000/7000 [==============================] - 3s 471us/step - loss: 0.2483 - acc: 0.8943 - val_loss: 0.2562 - val_acc: 0.8837\n",
            "\n",
            "Epoch 00019: val_acc did not improve from 0.89130\n",
            "Epoch 20/55\n",
            "7000/7000 [==============================] - 3s 469us/step - loss: 0.2371 - acc: 0.8970 - val_loss: 0.3397 - val_acc: 0.8511\n",
            "\n",
            "Epoch 00020: val_acc did not improve from 0.89130\n",
            "Epoch 21/55\n",
            "7000/7000 [==============================] - 3s 474us/step - loss: 0.2448 - acc: 0.8956 - val_loss: 0.2520 - val_acc: 0.8880\n",
            "\n",
            "Epoch 00021: val_acc did not improve from 0.89130\n",
            "Epoch 22/55\n",
            "7000/7000 [==============================] - 3s 469us/step - loss: 0.2458 - acc: 0.8914 - val_loss: 0.2488 - val_acc: 0.8870\n",
            "\n",
            "Epoch 00022: val_acc did not improve from 0.89130\n",
            "Epoch 23/55\n",
            "7000/7000 [==============================] - 3s 465us/step - loss: 0.2467 - acc: 0.8966 - val_loss: 0.2494 - val_acc: 0.8837\n",
            "\n",
            "Epoch 00023: val_acc did not improve from 0.89130\n",
            "Epoch 24/55\n",
            "7000/7000 [==============================] - 3s 475us/step - loss: 0.2263 - acc: 0.9047 - val_loss: 0.2936 - val_acc: 0.8370\n",
            "\n",
            "Epoch 00024: val_acc did not improve from 0.89130\n",
            "Epoch 25/55\n",
            "7000/7000 [==============================] - 3s 474us/step - loss: 0.2446 - acc: 0.8920 - val_loss: 0.2808 - val_acc: 0.8533\n",
            "\n",
            "Epoch 00025: val_acc did not improve from 0.89130\n",
            "Epoch 26/55\n",
            "7000/7000 [==============================] - 3s 475us/step - loss: 0.2337 - acc: 0.9004 - val_loss: 0.2959 - val_acc: 0.8707\n",
            "\n",
            "Epoch 00026: val_acc did not improve from 0.89130\n",
            "Epoch 27/55\n",
            "7000/7000 [==============================] - 3s 468us/step - loss: 0.2357 - acc: 0.8991 - val_loss: 0.2810 - val_acc: 0.8772\n",
            "\n",
            "Epoch 00027: val_acc did not improve from 0.89130\n",
            "Epoch 28/55\n",
            "7000/7000 [==============================] - 3s 468us/step - loss: 0.2362 - acc: 0.8980 - val_loss: 0.2438 - val_acc: 0.8946\n",
            "\n",
            "Epoch 00028: val_acc improved from 0.89130 to 0.89457, saving model to weights.best.hdf5\n",
            "Epoch 29/55\n",
            "7000/7000 [==============================] - 3s 477us/step - loss: 0.2348 - acc: 0.8989 - val_loss: 0.2549 - val_acc: 0.8772\n",
            "\n",
            "Epoch 00029: val_acc did not improve from 0.89457\n",
            "Epoch 30/55\n",
            "7000/7000 [==============================] - 3s 472us/step - loss: 0.2312 - acc: 0.8984 - val_loss: 0.2743 - val_acc: 0.8783\n",
            "\n",
            "Epoch 00030: val_acc did not improve from 0.89457\n",
            "Epoch 31/55\n",
            "7000/7000 [==============================] - 3s 473us/step - loss: 0.2298 - acc: 0.8989 - val_loss: 0.2590 - val_acc: 0.8891\n",
            "\n",
            "Epoch 00031: val_acc did not improve from 0.89457\n",
            "Epoch 32/55\n",
            "7000/7000 [==============================] - 3s 473us/step - loss: 0.2251 - acc: 0.9026 - val_loss: 0.2894 - val_acc: 0.8783\n",
            "\n",
            "Epoch 00032: val_acc did not improve from 0.89457\n",
            "Epoch 33/55\n",
            "7000/7000 [==============================] - 3s 474us/step - loss: 0.2359 - acc: 0.8980 - val_loss: 0.2643 - val_acc: 0.8859\n",
            "\n",
            "Epoch 00033: val_acc did not improve from 0.89457\n",
            "Epoch 34/55\n",
            "7000/7000 [==============================] - 3s 471us/step - loss: 0.2243 - acc: 0.9037 - val_loss: 0.2515 - val_acc: 0.8924\n",
            "\n",
            "Epoch 00034: val_acc did not improve from 0.89457\n",
            "Epoch 35/55\n",
            "7000/7000 [==============================] - 3s 471us/step - loss: 0.2263 - acc: 0.8994 - val_loss: 0.2497 - val_acc: 0.8935\n",
            "\n",
            "Epoch 00035: val_acc did not improve from 0.89457\n",
            "Epoch 36/55\n",
            "7000/7000 [==============================] - 3s 471us/step - loss: 0.2223 - acc: 0.9050 - val_loss: 0.2768 - val_acc: 0.9011\n",
            "\n",
            "Epoch 00036: val_acc improved from 0.89457 to 0.90109, saving model to weights.best.hdf5\n",
            "Epoch 37/55\n",
            "7000/7000 [==============================] - 3s 470us/step - loss: 0.2336 - acc: 0.9029 - val_loss: 0.2447 - val_acc: 0.8957\n",
            "\n",
            "Epoch 00037: val_acc did not improve from 0.90109\n",
            "Epoch 38/55\n",
            "7000/7000 [==============================] - 3s 472us/step - loss: 0.2237 - acc: 0.9044 - val_loss: 0.2518 - val_acc: 0.8924\n",
            "\n",
            "Epoch 00038: val_acc did not improve from 0.90109\n",
            "Epoch 39/55\n",
            "7000/7000 [==============================] - 3s 470us/step - loss: 0.2154 - acc: 0.9061 - val_loss: 0.2818 - val_acc: 0.8739\n",
            "\n",
            "Epoch 00039: val_acc did not improve from 0.90109\n",
            "Epoch 40/55\n",
            "3584/7000 [==============>...............] - ETA: 1s - loss: 0.2203 - acc: 0.9076"
          ],
          "name": "stdout"
        }
      ]
    },
    {
      "cell_type": "markdown",
      "metadata": {
        "colab_type": "text",
        "id": "lBJHSsz0Fsma"
      },
      "source": [
        "**Plotting accuracy and loss in the training phase**"
      ]
    },
    {
      "cell_type": "code",
      "metadata": {
        "colab_type": "code",
        "id": "i71_7nKT-8GT",
        "outputId": "fc5e9530-8cd8-4fa1-a681-43c866734bf1",
        "colab": {
          "base_uri": "https://localhost:8080/",
          "height": 573
        }
      },
      "source": [
        "# Loss plot\n",
        "history_dict = history.history\n",
        "loss_values = history_dict['loss']\n",
        "val_loss_values = history_dict['val_loss']\n",
        "epochs = range(1, len(loss_values) + 1)\n",
        "plt.plot(epochs, loss_values, 'bo', label='Training loss')\n",
        "plt.plot(epochs, val_loss_values, 'b', label='Validation loss')\n",
        "plt.title('Training and validation loss')\n",
        "plt.xlabel('Epochs')\n",
        "plt.ylabel('Loss')\n",
        "plt.legend()\n",
        "plt.show()\n",
        "\n",
        "# Accuracy plot\n",
        "plt.clf()\n",
        "acc_values = history_dict['acc']\n",
        "val_acc_values = history_dict['val_acc']\n",
        "plt.plot(epochs, acc_values, 'bo', label='Training acc')\n",
        "plt.plot(epochs, val_acc_values, 'b', label='Validation acc')\n",
        "plt.title('Training and validation accuracy')\n",
        "plt.xlabel('Epochs')\n",
        "plt.ylabel('Loss')\n",
        "plt.legend()\n",
        "plt.show()"
      ],
      "execution_count": 87,
      "outputs": [
        {
          "output_type": "display_data",
          "data": {
            "image/png": "[encoded data removed]",
            "text/plain": [
              "<Figure size 432x288 with 1 Axes>"
            ]
          },
          "metadata": {
            "tags": []
          }
        },
        {
          "output_type": "display_data",
          "data": {
            "image/png": "[encoded data removed]",
            "text/plain": [
              "<Figure size 432x288 with 1 Axes>"
            ]
          },
          "metadata": {
            "tags": []
          }
        }
      ]
    },
    {
      "cell_type": "markdown",
      "metadata": {
        "colab_type": "text",
        "id": "i4qpCeaKFxAP"
      },
      "source": [
        "**Evaluating model on test data**"
      ]
    },
    {
      "cell_type": "code",
      "metadata": {
        "colab_type": "code",
        "id": "jKqAJkvR-8Ga",
        "outputId": "5b7dad77-e7ff-44fd-9076-cddc03b40556",
        "colab": {
          "base_uri": "https://localhost:8080/",
          "height": 68
        }
      },
      "source": [
        "test_label = np.asarray(test_label)\n",
        "#test_embedding_matrix = get_embeddings(test_data)\n",
        "test_embedding_matrix = np.asarray(e.sents2elmo(fill_list(test_data)))\n",
        "results = model.evaluate(test_embedding_matrix, test_label)\n",
        "print(\"Loss: \", results[0])\n",
        "print(\"Accuracy: \", results[1])"
      ],
      "execution_count": 0,
      "outputs": [
        {
          "output_type": "stream",
          "text": [
            "359/359 [==============================] - 0s 140us/step\n",
            "Loss:  0.6674792934260992\n",
            "Accuracy:  0.7047353763766275\n"
          ],
          "name": "stdout"
        }
      ]
    },
    {
      "cell_type": "code",
      "metadata": {
        "id": "FRDAM223J4Pt",
        "colab_type": "code",
        "outputId": "66cfaac6-ad38-4547-d12b-9918833a626a",
        "colab": {
          "base_uri": "https://localhost:8080/",
          "height": 68
        }
      },
      "source": [
        "%ls"
      ],
      "execution_count": 0,
      "outputs": [
        {
          "output_type": "stream",
          "text": [
            "\u001b[0m\u001b[01;34mELMoForManyLangs\u001b[0m/            output.csv        train_2kmZucJ.csv\n",
            "numberbatch-en-17.06.txt.gz  \u001b[01;34msample_data\u001b[0m/\n",
            "numberbatch-en.txt           test_oJQbWVk.csv\n"
          ],
          "name": "stdout"
        }
      ]
    },
    {
      "cell_type": "code",
      "metadata": {
        "id": "6SYVtAQfLHO9",
        "colab_type": "code",
        "outputId": "bddbfdda-cc4d-469a-9613-e251c1ec075d",
        "colab": {
          "base_uri": "https://localhost:8080/",
          "height": 85
        }
      },
      "source": [
        "test_data, test_id = preprocess2(read_in2(\"test_oJQbWVk.csv\"))\n",
        "test_embedding_matrix = get_embeddings(test_data)\n",
        "#test_embedding_matrix = np.asarray(e.sents2elmo(fill_list(test_data)))\n",
        "print(test_embedding_matrix.shape)"
      ],
      "execution_count": 33,
      "outputs": [
        {
          "output_type": "stream",
          "text": [
            "Preprocessing...\n",
            "Done\n",
            "0\n",
            "(1953, 60, 300)\n"
          ],
          "name": "stdout"
        }
      ]
    },
    {
      "cell_type": "code",
      "metadata": {
        "id": "teUv-iAfZVFI",
        "colab_type": "code",
        "colab": {}
      },
      "source": [
        "model.load_weights(\"weights.best.hdf5\")"
      ],
      "execution_count": 0,
      "outputs": []
    },
    {
      "cell_type": "code",
      "metadata": {
        "id": "Kn1jFM30aKg0",
        "colab_type": "code",
        "outputId": "8cae8a59-0126-4966-8e88-3d2d59b6021d",
        "colab": {
          "base_uri": "https://localhost:8080/",
          "height": 340
        }
      },
      "source": [
        "model.summary()"
      ],
      "execution_count": 49,
      "outputs": [
        {
          "output_type": "stream",
          "text": [
            "_________________________________________________________________\n",
            "Layer (type)                 Output Shape              Param #   \n",
            "=================================================================\n",
            "dense_46 (Dense)             (None, 60, 60)            18060     \n",
            "_________________________________________________________________\n",
            "flatten_16 (Flatten)         (None, 3600)              0         \n",
            "_________________________________________________________________\n",
            "dropout_31 (Dropout)         (None, 3600)              0         \n",
            "_________________________________________________________________\n",
            "dense_47 (Dense)             (None, 60)                216060    \n",
            "_________________________________________________________________\n",
            "dropout_32 (Dropout)         (None, 60)                0         \n",
            "_________________________________________________________________\n",
            "dense_48 (Dense)             (None, 1)                 61        \n",
            "=================================================================\n",
            "Total params: 234,181\n",
            "Trainable params: 234,181\n",
            "Non-trainable params: 0\n",
            "_________________________________________________________________\n"
          ],
          "name": "stdout"
        }
      ]
    },
    {
      "cell_type": "code",
      "metadata": {
        "id": "UhQeDXGHLYuS",
        "colab_type": "code",
        "colab": {}
      },
      "source": [
        "prediction = model.predict(test_embedding_matrix)"
      ],
      "execution_count": 0,
      "outputs": []
    },
    {
      "cell_type": "code",
      "metadata": {
        "id": "H7wm7faUMsDX",
        "colab_type": "code",
        "colab": {}
      },
      "source": [
        "output = []\n",
        "for i, pred in enumerate(prediction):\n",
        "  if pred > 0.5:\n",
        "    output.append([test_id[i], \"1\"])\n",
        "  else:\n",
        "    output.append([test_id[i], \"0\"])\n",
        "with open('output.csv', 'w') as writeFile:\n",
        "    writer = csv.writer(writeFile)\n",
        "    writer.writerow([\"id\", \"label\"])\n",
        "    writer.writerows(output)\n"
      ],
      "execution_count": 0,
      "outputs": []
    },
    {
      "cell_type": "code",
      "metadata": {
        "id": "ENSB6RQnN6kF",
        "colab_type": "code",
        "outputId": "a84c90d9-09d9-4200-d92c-27fb34568518",
        "colab": {
          "base_uri": "https://localhost:8080/",
          "height": 68
        }
      },
      "source": [
        "%ls\n",
        "from google.colab import files\n",
        "files.download('output.csv')"
      ],
      "execution_count": 91,
      "outputs": [
        {
          "output_type": "stream",
          "text": [
            "numberbatch-en-17.06.txt.gz    output.csv        train_2kmZucJ.csv\n",
            "numberbatch-en-17.06.txt.gz.1  \u001b[0m\u001b[01;34msample_data\u001b[0m/      weights.best.hdf5\n",
            "numberbatch-en.txt             test_oJQbWVk.csv\n"
          ],
          "name": "stdout"
        }
      ]
    },
    {
      "cell_type": "code",
      "metadata": {
        "id": "Q9CCmfWWOtK7",
        "colab_type": "code",
        "outputId": "4ba0d44e-89fa-47d4-b1c9-c3f85c862508",
        "colab": {
          "base_uri": "https://localhost:8080/",
          "height": 54
        }
      },
      "source": [
        "print(output)"
      ],
      "execution_count": 0,
      "outputs": [
        {
          "output_type": "stream",
          "text": [
            "[['1', '7921'], ['0', '7922'], ['1', '7923'], ['0', '7924'], ['1', '7925'], ['0', '7926'], ['1', '7927'], ['0', '7928'], ['1', '7929'], ['0', '7930'], ['0', '7931'], ['0', '7932'], ['0', '7933'], ['0', '7934'], ['0', '7935'], ['0', '7936'], ['0', '7937'], ['1', '7938'], ['1', '7939'], ['0', '7940'], ['0', '7941'], ['0', '7942'], ['0', '7943'], ['0', '7944'], ['1', '7945'], ['0', '7946'], ['0', '7947'], ['0', '7948'], ['1', '7949'], ['0', '7950'], ['1', '7951'], ['1', '7952'], ['0', '7953'], ['0', '7954'], ['0', '7955'], ['1', '7956'], ['1', '7957'], ['0', '7958'], ['0', '7959'], ['0', '7960'], ['0', '7961'], ['0', '7962'], ['0', '7963'], ['0', '7964'], ['0', '7965'], ['0', '7966'], ['0', '7967'], ['0', '7968'], ['0', '7969'], ['1', '7970'], ['1', '7971'], ['0', '7972'], ['0', '7973'], ['0', '7974'], ['0', '7975'], ['0', '7976'], ['1', '7977'], ['0', '7978'], ['0', '7979'], ['1', '7980'], ['0', '7981'], ['0', '7982'], ['0', '7983'], ['0', '7984'], ['0', '7985'], ['0', '7986'], ['0', '7987'], ['1', '7988'], ['0', '7989'], ['1', '7990'], ['0', '7991'], ['0', '7992'], ['1', '7993'], ['0', '7994'], ['1', '7995'], ['0', '7996'], ['0', '7997'], ['0', '7998'], ['0', '7999'], ['1', '8000'], ['0', '8001'], ['1', '8002'], ['0', '8003'], ['1', '8004'], ['0', '8005'], ['1', '8006'], ['0', '8007'], ['0', '8008'], ['0', '8009'], ['0', '8010'], ['0', '8011'], ['1', '8012'], ['0', '8013'], ['0', '8014'], ['1', '8015'], ['1', '8016'], ['1', '8017'], ['1', '8018'], ['1', '8019'], ['1', '8020'], ['1', '8021'], ['0', '8022'], ['0', '8023'], ['1', '8024'], ['1', '8025'], ['1', '8026'], ['1', '8027'], ['0', '8028'], ['0', '8029'], ['0', '8030'], ['0', '8031'], ['0', '8032'], ['0', '8033'], ['0', '8034'], ['1', '8035'], ['0', '8036'], ['0', '8037'], ['0', '8038'], ['0', '8039'], ['1', '8040'], ['0', '8041'], ['1', '8042'], ['1', '8043'], ['0', '8044'], ['0', '8045'], ['0', '8046'], ['1', '8047'], ['1', '8048'], ['1', '8049'], ['1', '8050'], ['1', '8051'], ['1', '8052'], ['1', '8053'], ['0', '8054'], ['1', '8055'], ['0', '8056'], ['0', '8057'], ['0', '8058'], ['0', '8059'], ['0', '8060'], ['0', '8061'], ['0', '8062'], ['0', '8063'], ['1', '8064'], ['1', '8065'], ['1', '8066'], ['0', '8067'], ['0', '8068'], ['0', '8069'], ['0', '8070'], ['0', '8071'], ['0', '8072'], ['1', '8073'], ['0', '8074'], ['0', '8075'], ['0', '8076'], ['0', '8077'], ['0', '8078'], ['0', '8079'], ['1', '8080'], ['0', '8081'], ['1', '8082'], ['0', '8083'], ['0', '8084'], ['0', '8085'], ['0', '8086'], ['1', '8087'], ['0', '8088'], ['0', '8089'], ['1', '8090'], ['0', '8091'], ['0', '8092'], ['0', '8093'], ['0', '8094'], ['0', '8095'], ['0', '8096'], ['0', '8097'], ['1', '8098'], ['1', '8099'], ['0', '8100'], ['1', '8101'], ['0', '8102'], ['1', '8103'], ['0', '8104'], ['0', '8105'], ['0', '8106'], ['0', '8107'], ['0', '8108'], ['1', '8109'], ['0', '8110'], ['0', '8111'], ['1', '8112'], ['0', '8113'], ['0', '8114'], ['0', '8115'], ['0', '8116'], ['0', '8117'], ['0', '8118'], ['0', '8119'], ['0', '8120'], ['0', '8121'], ['0', '8122'], ['0', '8123'], ['0', '8124'], ['0', '8125'], ['1', '8126'], ['0', '8127'], ['0', '8128'], ['0', '8129'], ['0', '8130'], ['0', '8131'], ['1', '8132'], ['0', '8133'], ['0', '8134'], ['0', '8135'], ['0', '8136'], ['0', '8137'], ['1', '8138'], ['0', '8139'], ['1', '8140'], ['0', '8141'], ['0', '8142'], ['0', '8143'], ['0', '8144'], ['0', '8145'], ['1', '8146'], ['0', '8147'], ['0', '8148'], ['0', '8149'], ['0', '8150'], ['0', '8151'], ['0', '8152'], ['0', '8153'], ['0', '8154'], ['0', '8155'], ['0', '8156'], ['1', '8157'], ['0', '8158'], ['1', '8159'], ['1', '8160'], ['0', '8161'], ['0', '8162'], ['0', '8163'], ['1', '8164'], ['0', '8165'], ['0', '8166'], ['0', '8167'], ['1', '8168'], ['0', '8169'], ['1', '8170'], ['0', '8171'], ['0', '8172'], ['0', '8173'], ['0', '8174'], ['1', '8175'], ['0', '8176'], ['0', '8177'], ['0', '8178'], ['0', '8179'], ['0', '8180'], ['0', '8181'], ['0', '8182'], ['0', '8183'], ['1', '8184'], ['1', '8185'], ['0', '8186'], ['0', '8187'], ['0', '8188'], ['0', '8189'], ['0', '8190'], ['0', '8191'], ['0', '8192'], ['0', '8193'], ['1', '8194'], ['0', '8195'], ['1', '8196'], ['0', '8197'], ['1', '8198'], ['0', '8199'], ['1', '8200'], ['1', '8201'], ['0', '8202'], ['0', '8203'], ['0', '8204'], ['0', '8205'], ['0', '8206'], ['1', '8207'], ['0', '8208'], ['0', '8209'], ['0', '8210'], ['0', '8211'], ['0', '8212'], ['1', '8213'], ['0', '8214'], ['0', '8215'], ['0', '8216'], ['0', '8217'], ['0', '8218'], ['1', '8219'], ['0', '8220'], ['0', '8221'], ['0', '8222'], ['0', '8223'], ['1', '8224'], ['0', '8225'], ['1', '8226'], ['1', '8227'], ['0', '8228'], ['0', '8229'], ['0', '8230'], ['0', '8231'], ['1', '8232'], ['1', '8233'], ['0', '8234'], ['1', '8235'], ['1', '8236'], ['0', '8237'], ['0', '8238'], ['0', '8239'], ['0', '8240'], ['0', '8241'], ['0', '8242'], ['0', '8243'], ['0', '8244'], ['1', '8245'], ['1', '8246'], ['0', '8247'], ['0', '8248'], ['0', '8249'], ['0', '8250'], ['0', '8251'], ['1', '8252'], ['0', '8253'], ['0', '8254'], ['1', '8255'], ['0', '8256'], ['0', '8257'], ['0', '8258'], ['1', '8259'], ['0', '8260'], ['0', '8261'], ['0', '8262'], ['0', '8263'], ['1', '8264'], ['0', '8265'], ['1', '8266'], ['0', '8267'], ['0', '8268'], ['0', '8269'], ['1', '8270'], ['0', '8271'], ['0', '8272'], ['1', '8273'], ['0', '8274'], ['0', '8275'], ['0', '8276'], ['0', '8277'], ['0', '8278'], ['0', '8279'], ['0', '8280'], ['1', '8281'], ['0', '8282'], ['0', '8283'], ['0', '8284'], ['1', '8285'], ['1', '8286'], ['0', '8287'], ['1', '8288'], ['0', '8289'], ['0', '8290'], ['0', '8291'], ['1', '8292'], ['0', '8293'], ['0', '8294'], ['1', '8295'], ['0', '8296'], ['1', '8297'], ['1', '8298'], ['0', '8299'], ['0', '8300'], ['0', '8301'], ['0', '8302'], ['0', '8303'], ['1', '8304'], ['1', '8305'], ['1', '8306'], ['1', '8307'], ['0', '8308'], ['0', '8309'], ['0', '8310'], ['1', '8311'], ['0', '8312'], ['0', '8313'], ['0', '8314'], ['0', '8315'], ['0', '8316'], ['0', '8317'], ['0', '8318'], ['0', '8319'], ['1', '8320'], ['0', '8321'], ['0', '8322'], ['0', '8323'], ['1', '8324'], ['0', '8325'], ['0', '8326'], ['0', '8327'], ['0', '8328'], ['0', '8329'], ['0', '8330'], ['0', '8331'], ['0', '8332'], ['0', '8333'], ['0', '8334'], ['0', '8335'], ['1', '8336'], ['0', '8337'], ['0', '8338'], ['0', '8339'], ['1', '8340'], ['0', '8341'], ['0', '8342'], ['0', '8343'], ['0', '8344'], ['0', '8345'], ['0', '8346'], ['0', '8347'], ['0', '8348'], ['0', '8349'], ['0', '8350'], ['1', '8351'], ['0', '8352'], ['0', '8353'], ['0', '8354'], ['1', '8355'], ['0', '8356'], ['1', '8357'], ['0', '8358'], ['0', '8359'], ['0', '8360'], ['0', '8361'], ['0', '8362'], ['0', '8363'], ['0', '8364'], ['0', '8365'], ['0', '8366'], ['0', '8367'], ['0', '8368'], ['0', '8369'], ['1', '8370'], ['0', '8371'], ['0', '8372'], ['1', '8373'], ['0', '8374'], ['0', '8375'], ['0', '8376'], ['1', '8377'], ['0', '8378'], ['0', '8379'], ['0', '8380'], ['0', '8381'], ['0', '8382'], ['0', '8383'], ['0', '8384'], ['0', '8385'], ['0', '8386'], ['1', '8387'], ['0', '8388'], ['0', '8389'], ['0', '8390'], ['0', '8391'], ['0', '8392'], ['0', '8393'], ['0', '8394'], ['1', '8395'], ['0', '8396'], ['0', '8397'], ['0', '8398'], ['0', '8399'], ['0', '8400'], ['1', '8401'], ['0', '8402'], ['0', '8403'], ['1', '8404'], ['0', '8405'], ['0', '8406'], ['1', '8407'], ['1', '8408'], ['1', '8409'], ['1', '8410'], ['0', '8411'], ['1', '8412'], ['0', '8413'], ['0', '8414'], ['1', '8415'], ['0', '8416'], ['1', '8417'], ['0', '8418'], ['0', '8419'], ['0', '8420'], ['0', '8421'], ['0', '8422'], ['0', '8423'], ['1', '8424'], ['0', '8425'], ['0', '8426'], ['1', '8427'], ['1', '8428'], ['0', '8429'], ['0', '8430'], ['0', '8431'], ['0', '8432'], ['0', '8433'], ['0', '8434'], ['0', '8435'], ['1', '8436'], ['0', '8437'], ['0', '8438'], ['0', '8439'], ['0', '8440'], ['0', '8441'], ['1', '8442'], ['0', '8443'], ['1', '8444'], ['1', '8445'], ['0', '8446'], ['1', '8447'], ['1', '8448'], ['0', '8449'], ['0', '8450'], ['1', '8451'], ['1', '8452'], ['0', '8453'], ['0', '8454'], ['1', '8455'], ['0', '8456'], ['1', '8457'], ['1', '8458'], ['0', '8459'], ['1', '8460'], ['0', '8461'], ['0', '8462'], ['0', '8463'], ['1', '8464'], ['1', '8465'], ['0', '8466'], ['0', '8467'], ['0', '8468'], ['0', '8469'], ['1', '8470'], ['0', '8471'], ['1', '8472'], ['1', '8473'], ['0', '8474'], ['1', '8475'], ['0', '8476'], ['0', '8477'], ['1', '8478'], ['1', '8479'], ['0', '8480'], ['0', '8481'], ['0', '8482'], ['0', '8483'], ['0', '8484'], ['0', '8485'], ['0', '8486'], ['0', '8487'], ['0', '8488'], ['1', '8489'], ['1', '8490'], ['1', '8491'], ['0', '8492'], ['1', '8493'], ['0', '8494'], ['1', '8495'], ['0', '8496'], ['1', '8497'], ['0', '8498'], ['0', '8499'], ['0', '8500'], ['0', '8501'], ['1', '8502'], ['1', '8503'], ['1', '8504'], ['0', '8505'], ['0', '8506'], ['0', '8507'], ['0', '8508'], ['0', '8509'], ['1', '8510'], ['0', '8511'], ['0', '8512'], ['0', '8513'], ['0', '8514'], ['1', '8515'], ['0', '8516'], ['0', '8517'], ['0', '8518'], ['0', '8519'], ['0', '8520'], ['0', '8521'], ['0', '8522'], ['0', '8523'], ['1', '8524'], ['0', '8525'], ['1', '8526'], ['0', '8527'], ['1', '8528'], ['0', '8529'], ['1', '8530'], ['0', '8531'], ['0', '8532'], ['0', '8533'], ['0', '8534'], ['0', '8535'], ['0', '8536'], ['0', '8537'], ['0', '8538'], ['0', '8539'], ['0', '8540'], ['0', '8541'], ['0', '8542'], ['0', '8543'], ['0', '8544'], ['1', '8545'], ['0', '8546'], ['1', '8547'], ['1', '8548'], ['1', '8549'], ['0', '8550'], ['1', '8551'], ['0', '8552'], ['1', '8553'], ['1', '8554'], ['0', '8555'], ['1', '8556'], ['1', '8557'], ['0', '8558'], ['1', '8559'], ['0', '8560'], ['0', '8561'], ['1', '8562'], ['0', '8563'], ['0', '8564'], ['1', '8565'], ['0', '8566'], ['0', '8567'], ['0', '8568'], ['0', '8569'], ['1', '8570'], ['1', '8571'], ['0', '8572'], ['0', '8573'], ['0', '8574'], ['0', '8575'], ['1', '8576'], ['0', '8577'], ['1', '8578'], ['0', '8579'], ['1', '8580'], ['0', '8581'], ['0', '8582'], ['0', '8583'], ['0', '8584'], ['0', '8585'], ['0', '8586'], ['1', '8587'], ['0', '8588'], ['0', '8589'], ['0', '8590'], ['0', '8591'], ['0', '8592'], ['0', '8593'], ['1', '8594'], ['0', '8595'], ['0', '8596'], ['0', '8597'], ['0', '8598'], ['1', '8599'], ['1', '8600'], ['0', '8601'], ['0', '8602'], ['0', '8603'], ['1', '8604'], ['0', '8605'], ['0', '8606'], ['0', '8607'], ['0', '8608'], ['0', '8609'], ['0', '8610'], ['1', '8611'], ['1', '8612'], ['1', '8613'], ['1', '8614'], ['0', '8615'], ['0', '8616'], ['0', '8617'], ['1', '8618'], ['0', '8619'], ['0', '8620'], ['0', '8621'], ['0', '8622'], ['0', '8623'], ['0', '8624'], ['0', '8625'], ['1', '8626'], ['1', '8627'], ['0', '8628'], ['0', '8629'], ['0', '8630'], ['0', '8631'], ['0', '8632'], ['1', '8633'], ['1', '8634'], ['0', '8635'], ['0', '8636'], ['1', '8637'], ['0', '8638'], ['1', '8639'], ['1', '8640'], ['0', '8641'], ['0', '8642'], ['0', '8643'], ['0', '8644'], ['0', '8645'], ['0', '8646'], ['1', '8647'], ['0', '8648'], ['0', '8649'], ['0', '8650'], ['0', '8651'], ['0', '8652'], ['0', '8653'], ['1', '8654'], ['0', '8655'], ['0', '8656'], ['0', '8657'], ['0', '8658'], ['0', '8659'], ['0', '8660'], ['0', '8661'], ['0', '8662'], ['0', '8663'], ['0', '8664'], ['1', '8665'], ['0', '8666'], ['1', '8667'], ['0', '8668'], ['0', '8669'], ['0', '8670'], ['0', '8671'], ['1', '8672'], ['0', '8673'], ['0', '8674'], ['0', '8675'], ['0', '8676'], ['0', '8677'], ['0', '8678'], ['0', '8679'], ['0', '8680'], ['1', '8681'], ['0', '8682'], ['0', '8683'], ['0', '8684'], ['0', '8685'], ['0', '8686'], ['0', '8687'], ['0', '8688'], ['1', '8689'], ['0', '8690'], ['1', '8691'], ['0', '8692'], ['0', '8693'], ['0', '8694'], ['1', '8695'], ['0', '8696'], ['0', '8697'], ['0', '8698'], ['0', '8699'], ['0', '8700'], ['0', '8701'], ['0', '8702'], ['1', '8703'], ['1', '8704'], ['1', '8705'], ['0', '8706'], ['0', '8707'], ['0', '8708'], ['0', '8709'], ['1', '8710'], ['1', '8711'], ['0', '8712'], ['0', '8713'], ['0', '8714'], ['0', '8715'], ['1', '8716'], ['0', '8717'], ['0', '8718'], ['0', '8719'], ['0', '8720'], ['1', '8721'], ['1', '8722'], ['0', '8723'], ['0', '8724'], ['1', '8725'], ['1', '8726'], ['0', '8727'], ['0', '8728'], ['0', '8729'], ['1', '8730'], ['1', '8731'], ['0', '8732'], ['0', '8733'], ['0', '8734'], ['0', '8735'], ['1', '8736'], ['0', '8737'], ['1', '8738'], ['1', '8739'], ['0', '8740'], ['0', '8741'], ['0', '8742'], ['0', '8743'], ['0', '8744'], ['1', '8745'], ['0', '8746'], ['1', '8747'], ['0', '8748'], ['0', '8749'], ['1', '8750'], ['0', '8751'], ['0', '8752'], ['1', '8753'], ['0', '8754'], ['1', '8755'], ['0', '8756'], ['0', '8757'], ['0', '8758'], ['0', '8759'], ['0', '8760'], ['1', '8761'], ['0', '8762'], ['0', '8763'], ['1', '8764'], ['0', '8765'], ['0', '8766'], ['1', '8767'], ['1', '8768'], ['0', '8769'], ['0', '8770'], ['1', '8771'], ['0', '8772'], ['0', '8773'], ['1', '8774'], ['0', '8775'], ['0', '8776'], ['1', '8777'], ['0', '8778'], ['0', '8779'], ['0', '8780'], ['1', '8781'], ['0', '8782'], ['0', '8783'], ['1', '8784'], ['0', '8785'], ['0', '8786'], ['0', '8787'], ['0', '8788'], ['1', '8789'], ['1', '8790'], ['0', '8791'], ['0', '8792'], ['1', '8793'], ['0', '8794'], ['0', '8795'], ['0', '8796'], ['0', '8797'], ['0', '8798'], ['1', '8799'], ['0', '8800'], ['1', '8801'], ['0', '8802'], ['0', '8803'], ['1', '8804'], ['0', '8805'], ['0', '8806'], ['0', '8807'], ['0', '8808'], ['0', '8809'], ['1', '8810'], ['1', '8811'], ['1', '8812'], ['1', '8813'], ['0', '8814'], ['0', '8815'], ['1', '8816'], ['1', '8817'], ['0', '8818'], ['1', '8819'], ['1', '8820'], ['0', '8821'], ['0', '8822'], ['1', '8823'], ['1', '8824'], ['0', '8825'], ['1', '8826'], ['0', '8827'], ['1', '8828'], ['0', '8829'], ['1', '8830'], ['1', '8831'], ['0', '8832'], ['0', '8833'], ['0', '8834'], ['0', '8835'], ['0', '8836'], ['1', '8837'], ['1', '8838'], ['0', '8839'], ['0', '8840'], ['0', '8841'], ['0', '8842'], ['0', '8843'], ['0', '8844'], ['1', '8845'], ['0', '8846'], ['0', '8847'], ['1', '8848'], ['0', '8849'], ['1', '8850'], ['0', '8851'], ['0', '8852'], ['0', '8853'], ['0', '8854'], ['0', '8855'], ['0', '8856'], ['0', '8857'], ['0', '8858'], ['0', '8859'], ['0', '8860'], ['0', '8861'], ['0', '8862'], ['0', '8863'], ['0', '8864'], ['0', '8865'], ['1', '8866'], ['0', '8867'], ['1', '8868'], ['1', '8869'], ['0', '8870'], ['0', '8871'], ['0', '8872'], ['1', '8873'], ['0', '8874'], ['0', '8875'], ['0', '8876'], ['0', '8877'], ['1', '8878'], ['0', '8879'], ['0', '8880'], ['0', '8881'], ['0', '8882'], ['0', '8883'], ['0', '8884'], ['1', '8885'], ['1', '8886'], ['1', '8887'], ['1', '8888'], ['1', '8889'], ['1', '8890'], ['0', '8891'], ['1', '8892'], ['0', '8893'], ['0', '8894'], ['0', '8895'], ['0', '8896'], ['0', '8897'], ['1', '8898'], ['0', '8899'], ['0', '8900'], ['0', '8901'], ['0', '8902'], ['1', '8903'], ['1', '8904'], ['0', '8905'], ['0', '8906'], ['0', '8907'], ['1', '8908'], ['0', '8909'], ['0', '8910'], ['0', '8911'], ['0', '8912'], ['0', '8913'], ['0', '8914'], ['1', '8915'], ['1', '8916'], ['1', '8917'], ['0', '8918'], ['0', '8919'], ['0', '8920'], ['0', '8921'], ['0', '8922'], ['0', '8923'], ['0', '8924'], ['1', '8925'], ['1', '8926'], ['1', '8927'], ['0', '8928'], ['0', '8929'], ['0', '8930'], ['0', '8931'], ['1', '8932'], ['1', '8933'], ['1', '8934'], ['0', '8935'], ['0', '8936'], ['0', '8937'], ['0', '8938'], ['1', '8939'], ['0', '8940'], ['0', '8941'], ['0', '8942'], ['0', '8943'], ['0', '8944'], ['0', '8945'], ['0', '8946'], ['1', '8947'], ['1', '8948'], ['0', '8949'], ['0', '8950'], ['0', '8951'], ['0', '8952'], ['0', '8953'], ['1', '8954'], ['0', '8955'], ['0', '8956'], ['0', '8957'], ['1', '8958'], ['1', '8959'], ['0', '8960'], ['0', '8961'], ['0', '8962'], ['0', '8963'], ['0', '8964'], ['0', '8965'], ['1', '8966'], ['0', '8967'], ['0', '8968'], ['1', '8969'], ['0', '8970'], ['0', '8971'], ['0', '8972'], ['0', '8973'], ['0', '8974'], ['0', '8975'], ['0', '8976'], ['0', '8977'], ['0', '8978'], ['1', '8979'], ['1', '8980'], ['0', '8981'], ['0', '8982'], ['1', '8983'], ['0', '8984'], ['0', '8985'], ['0', '8986'], ['0', '8987'], ['0', '8988'], ['0', '8989'], ['0', '8990'], ['0', '8991'], ['0', '8992'], ['0', '8993'], ['0', '8994'], ['0', '8995'], ['0', '8996'], ['0', '8997'], ['0', '8998'], ['0', '8999'], ['1', '9000'], ['0', '9001'], ['0', '9002'], ['0', '9003'], ['0', '9004'], ['0', '9005'], ['1', '9006'], ['0', '9007'], ['0', '9008'], ['1', '9009'], ['0', '9010'], ['0', '9011'], ['0', '9012'], ['1', '9013'], ['0', '9014'], ['1', '9015'], ['0', '9016'], ['0', '9017'], ['0', '9018'], ['0', '9019'], ['0', '9020'], ['0', '9021'], ['1', '9022'], ['1', '9023'], ['0', '9024'], ['0', '9025'], ['0', '9026'], ['1', '9027'], ['0', '9028'], ['0', '9029'], ['0', '9030'], ['0', '9031'], ['0', '9032'], ['0', '9033'], ['1', '9034'], ['0', '9035'], ['0', '9036'], ['1', '9037'], ['0', '9038'], ['1', '9039'], ['0', '9040'], ['0', '9041'], ['1', '9042'], ['1', '9043'], ['1', '9044'], ['0', '9045'], ['0', '9046'], ['0', '9047'], ['0', '9048'], ['0', '9049'], ['0', '9050'], ['0', '9051'], ['0', '9052'], ['1', '9053'], ['0', '9054'], ['0', '9055'], ['1', '9056'], ['0', '9057'], ['0', '9058'], ['1', '9059'], ['1', '9060'], ['0', '9061'], ['0', '9062'], ['1', '9063'], ['0', '9064'], ['0', '9065'], ['0', '9066'], ['1', '9067'], ['0', '9068'], ['1', '9069'], ['0', '9070'], ['0', '9071'], ['1', '9072'], ['0', '9073'], ['1', '9074'], ['1', '9075'], ['0', '9076'], ['1', '9077'], ['0', '9078'], ['1', '9079'], ['0', '9080'], ['0', '9081'], ['0', '9082'], ['0', '9083'], ['1', '9084'], ['0', '9085'], ['0', '9086'], ['0', '9087'], ['0', '9088'], ['0', '9089'], ['0', '9090'], ['0', '9091'], ['0', '9092'], ['0', '9093'], ['0', '9094'], ['0', '9095'], ['0', '9096'], ['0', '9097'], ['0', '9098'], ['0', '9099'], ['1', '9100'], ['0', '9101'], ['1', '9102'], ['0', '9103'], ['1', '9104'], ['0', '9105'], ['1', '9106'], ['0', '9107'], ['0', '9108'], ['0', '9109'], ['0', '9110'], ['0', '9111'], ['1', '9112'], ['0', '9113'], ['1', '9114'], ['0', '9115'], ['1', '9116'], ['0', '9117'], ['0', '9118'], ['1', '9119'], ['0', '9120'], ['1', '9121'], ['0', '9122'], ['0', '9123'], ['0', '9124'], ['0', '9125'], ['0', '9126'], ['0', '9127'], ['0', '9128'], ['0', '9129'], ['0', '9130'], ['1', '9131'], ['0', '9132'], ['0', '9133'], ['0', '9134'], ['0', '9135'], ['1', '9136'], ['0', '9137'], ['0', '9138'], ['1', '9139'], ['0', '9140'], ['1', '9141'], ['1', '9142'], ['0', '9143'], ['0', '9144'], ['1', '9145'], ['0', '9146'], ['0', '9147'], ['0', '9148'], ['1', '9149'], ['0', '9150'], ['0', '9151'], ['0', '9152'], ['0', '9153'], ['1', '9154'], ['1', '9155'], ['0', '9156'], ['0', '9157'], ['1', '9158'], ['0', '9159'], ['0', '9160'], ['1', '9161'], ['0', '9162'], ['0', '9163'], ['1', '9164'], ['0', '9165'], ['1', '9166'], ['0', '9167'], ['0', '9168'], ['1', '9169'], ['0', '9170'], ['1', '9171'], ['1', '9172'], ['1', '9173'], ['0', '9174'], ['1', '9175'], ['1', '9176'], ['0', '9177'], ['1', '9178'], ['1', '9179'], ['0', '9180'], ['0', '9181'], ['0', '9182'], ['1', '9183'], ['0', '9184'], ['0', '9185'], ['0', '9186'], ['0', '9187'], ['0', '9188'], ['0', '9189'], ['0', '9190'], ['0', '9191'], ['0', '9192'], ['1', '9193'], ['0', '9194'], ['0', '9195'], ['1', '9196'], ['1', '9197'], ['0', '9198'], ['0', '9199'], ['0', '9200'], ['1', '9201'], ['0', '9202'], ['0', '9203'], ['0', '9204'], ['0', '9205'], ['0', '9206'], ['1', '9207'], ['0', '9208'], ['0', '9209'], ['1', '9210'], ['0', '9211'], ['0', '9212'], ['0', '9213'], ['1', '9214'], ['0', '9215'], ['0', '9216'], ['0', '9217'], ['1', '9218'], ['0', '9219'], ['0', '9220'], ['0', '9221'], ['0', '9222'], ['0', '9223'], ['0', '9224'], ['1', '9225'], ['0', '9226'], ['0', '9227'], ['1', '9228'], ['1', '9229'], ['1', '9230'], ['0', '9231'], ['1', '9232'], ['0', '9233'], ['1', '9234'], ['0', '9235'], ['0', '9236'], ['0', '9237'], ['0', '9238'], ['1', '9239'], ['0', '9240'], ['0', '9241'], ['0', '9242'], ['1', '9243'], ['1', '9244'], ['1', '9245'], ['0', '9246'], ['0', '9247'], ['1', '9248'], ['0', '9249'], ['1', '9250'], ['1', '9251'], ['0', '9252'], ['0', '9253'], ['0', '9254'], ['0', '9255'], ['1', '9256'], ['0', '9257'], ['0', '9258'], ['0', '9259'], ['0', '9260'], ['0', '9261'], ['1', '9262'], ['0', '9263'], ['0', '9264'], ['0', '9265'], ['0', '9266'], ['0', '9267'], ['0', '9268'], ['1', '9269'], ['1', '9270'], ['0', '9271'], ['1', '9272'], ['1', '9273'], ['0', '9274'], ['1', '9275'], ['0', '9276'], ['1', '9277'], ['0', '9278'], ['0', '9279'], ['1', '9280'], ['1', '9281'], ['1', '9282'], ['0', '9283'], ['0', '9284'], ['0', '9285'], ['0', '9286'], ['1', '9287'], ['0', '9288'], ['1', '9289'], ['0', '9290'], ['0', '9291'], ['0', '9292'], ['0', '9293'], ['0', '9294'], ['1', '9295'], ['0', '9296'], ['0', '9297'], ['1', '9298'], ['0', '9299'], ['0', '9300'], ['0', '9301'], ['0', '9302'], ['0', '9303'], ['0', '9304'], ['0', '9305'], ['0', '9306'], ['0', '9307'], ['1', '9308'], ['0', '9309'], ['0', '9310'], ['1', '9311'], ['0', '9312'], ['1', '9313'], ['1', '9314'], ['0', '9315'], ['1', '9316'], ['0', '9317'], ['0', '9318'], ['0', '9319'], ['0', '9320'], ['0', '9321'], ['0', '9322'], ['0', '9323'], ['0', '9324'], ['0', '9325'], ['1', '9326'], ['0', '9327'], ['0', '9328'], ['0', '9329'], ['0', '9330'], ['1', '9331'], ['1', '9332'], ['0', '9333'], ['1', '9334'], ['1', '9335'], ['0', '9336'], ['0', '9337'], ['0', '9338'], ['0', '9339'], ['0', '9340'], ['1', '9341'], ['0', '9342'], ['0', '9343'], ['0', '9344'], ['0', '9345'], ['0', '9346'], ['0', '9347'], ['0', '9348'], ['1', '9349'], ['0', '9350'], ['0', '9351'], ['1', '9352'], ['0', '9353'], ['0', '9354'], ['1', '9355'], ['0', '9356'], ['0', '9357'], ['0', '9358'], ['0', '9359'], ['1', '9360'], ['0', '9361'], ['0', '9362'], ['0', '9363'], ['0', '9364'], ['0', '9365'], ['0', '9366'], ['0', '9367'], ['0', '9368'], ['0', '9369'], ['0', '9370'], ['0', '9371'], ['1', '9372'], ['0', '9373'], ['0', '9374'], ['0', '9375'], ['0', '9376'], ['1', '9377'], ['0', '9378'], ['0', '9379'], ['0', '9380'], ['0', '9381'], ['1', '9382'], ['0', '9383'], ['1', '9384'], ['0', '9385'], ['0', '9386'], ['1', '9387'], ['0', '9388'], ['0', '9389'], ['1', '9390'], ['1', '9391'], ['0', '9392'], ['0', '9393'], ['0', '9394'], ['1', '9395'], ['0', '9396'], ['1', '9397'], ['1', '9398'], ['0', '9399'], ['1', '9400'], ['0', '9401'], ['1', '9402'], ['0', '9403'], ['0', '9404'], ['0', '9405'], ['0', '9406'], ['1', '9407'], ['0', '9408'], ['1', '9409'], ['0', '9410'], ['0', '9411'], ['0', '9412'], ['0', '9413'], ['0', '9414'], ['0', '9415'], ['1', '9416'], ['0', '9417'], ['0', '9418'], ['0', '9419'], ['1', '9420'], ['0', '9421'], ['0', '9422'], ['1', '9423'], ['0', '9424'], ['0', '9425'], ['0', '9426'], ['0', '9427'], ['0', '9428'], ['0', '9429'], ['0', '9430'], ['0', '9431'], ['1', '9432'], ['1', '9433'], ['1', '9434'], ['0', '9435'], ['0', '9436'], ['0', '9437'], ['1', '9438'], ['1', '9439'], ['0', '9440'], ['1', '9441'], ['0', '9442'], ['0', '9443'], ['1', '9444'], ['0', '9445'], ['0', '9446'], ['0', '9447'], ['0', '9448'], ['1', '9449'], ['0', '9450'], ['1', '9451'], ['0', '9452'], ['0', '9453'], ['1', '9454'], ['0', '9455'], ['0', '9456'], ['0', '9457'], ['1', '9458'], ['0', '9459'], ['0', '9460'], ['0', '9461'], ['0', '9462'], ['0', '9463'], ['1', '9464'], ['1', '9465'], ['0', '9466'], ['1', '9467'], ['0', '9468'], ['0', '9469'], ['1', '9470'], ['1', '9471'], ['0', '9472'], ['1', '9473'], ['0', '9474'], ['1', '9475'], ['0', '9476'], ['1', '9477'], ['1', '9478'], ['0', '9479'], ['0', '9480'], ['1', '9481'], ['0', '9482'], ['0', '9483'], ['1', '9484'], ['0', '9485'], ['0', '9486'], ['1', '9487'], ['1', '9488'], ['0', '9489'], ['0', '9490'], ['0', '9491'], ['0', '9492'], ['1', '9493'], ['0', '9494'], ['0', '9495'], ['0', '9496'], ['1', '9497'], ['1', '9498'], ['0', '9499'], ['0', '9500'], ['1', '9501'], ['1', '9502'], ['0', '9503'], ['0', '9504'], ['0', '9505'], ['1', '9506'], ['0', '9507'], ['0', '9508'], ['0', '9509'], ['0', '9510'], ['0', '9511'], ['0', '9512'], ['0', '9513'], ['0', '9514'], ['0', '9515'], ['0', '9516'], ['0', '9517'], ['0', '9518'], ['1', '9519'], ['0', '9520'], ['0', '9521'], ['0', '9522'], ['0', '9523'], ['0', '9524'], ['0', '9525'], ['1', '9526'], ['0', '9527'], ['0', '9528'], ['0', '9529'], ['0', '9530'], ['0', '9531'], ['1', '9532'], ['0', '9533'], ['0', '9534'], ['0', '9535'], ['0', '9536'], ['0', '9537'], ['0', '9538'], ['0', '9539'], ['0', '9540'], ['1', '9541'], ['0', '9542'], ['1', '9543'], ['1', '9544'], ['0', '9545'], ['0', '9546'], ['1', '9547'], ['1', '9548'], ['0', '9549'], ['0', '9550'], ['0', '9551'], ['0', '9552'], ['0', '9553'], ['1', '9554'], ['0', '9555'], ['0', '9556'], ['0', '9557'], ['1', '9558'], ['0', '9559'], ['0', '9560'], ['0', '9561'], ['0', '9562'], ['0', '9563'], ['1', '9564'], ['0', '9565'], ['0', '9566'], ['0', '9567'], ['0', '9568'], ['0', '9569'], ['0', '9570'], ['0', '9571'], ['0', '9572'], ['0', '9573'], ['0', '9574'], ['0', '9575'], ['0', '9576'], ['0', '9577'], ['0', '9578'], ['0', '9579'], ['0', '9580'], ['0', '9581'], ['0', '9582'], ['0', '9583'], ['0', '9584'], ['1', '9585'], ['0', '9586'], ['0', '9587'], ['0', '9588'], ['0', '9589'], ['0', '9590'], ['0', '9591'], ['0', '9592'], ['0', '9593'], ['0', '9594'], ['0', '9595'], ['0', '9596'], ['0', '9597'], ['0', '9598'], ['0', '9599'], ['0', '9600'], ['0', '9601'], ['1', '9602'], ['1', '9603'], ['0', '9604'], ['0', '9605'], ['0', '9606'], ['0', '9607'], ['1', '9608'], ['0', '9609'], ['0', '9610'], ['1', '9611'], ['0', '9612'], ['0', '9613'], ['0', '9614'], ['0', '9615'], ['0', '9616'], ['0', '9617'], ['1', '9618'], ['0', '9619'], ['0', '9620'], ['0', '9621'], ['0', '9622'], ['0', '9623'], ['0', '9624'], ['0', '9625'], ['1', '9626'], ['0', '9627'], ['1', '9628'], ['1', '9629'], ['0', '9630'], ['0', '9631'], ['1', '9632'], ['1', '9633'], ['0', '9634'], ['0', '9635'], ['0', '9636'], ['0', '9637'], ['0', '9638'], ['1', '9639'], ['1', '9640'], ['0', '9641'], ['1', '9642'], ['0', '9643'], ['1', '9644'], ['1', '9645'], ['1', '9646'], ['0', '9647'], ['0', '9648'], ['0', '9649'], ['0', '9650'], ['1', '9651'], ['1', '9652'], ['0', '9653'], ['0', '9654'], ['1', '9655'], ['1', '9656'], ['0', '9657'], ['0', '9658'], ['0', '9659'], ['0', '9660'], ['1', '9661'], ['1', '9662'], ['0', '9663'], ['0', '9664'], ['0', '9665'], ['0', '9666'], ['1', '9667'], ['0', '9668'], ['0', '9669'], ['0', '9670'], ['0', '9671'], ['0', '9672'], ['1', '9673'], ['0', '9674'], ['0', '9675'], ['0', '9676'], ['1', '9677'], ['0', '9678'], ['0', '9679'], ['0', '9680'], ['0', '9681'], ['1', '9682'], ['0', '9683'], ['0', '9684'], ['1', '9685'], ['0', '9686'], ['0', '9687'], ['0', '9688'], ['0', '9689'], ['1', '9690'], ['0', '9691'], ['1', '9692'], ['1', '9693'], ['1', '9694'], ['0', '9695'], ['1', '9696'], ['0', '9697'], ['0', '9698'], ['0', '9699'], ['1', '9700'], ['0', '9701'], ['1', '9702'], ['1', '9703'], ['0', '9704'], ['1', '9705'], ['1', '9706'], ['0', '9707'], ['0', '9708'], ['1', '9709'], ['1', '9710'], ['0', '9711'], ['0', '9712'], ['1', '9713'], ['0', '9714'], ['1', '9715'], ['0', '9716'], ['0', '9717'], ['0', '9718'], ['0', '9719'], ['0', '9720'], ['0', '9721'], ['0', '9722'], ['0', '9723'], ['0', '9724'], ['0', '9725'], ['0', '9726'], ['0', '9727'], ['0', '9728'], ['0', '9729'], ['0', '9730'], ['0', '9731'], ['0', '9732'], ['0', '9733'], ['1', '9734'], ['0', '9735'], ['0', '9736'], ['0', '9737'], ['0', '9738'], ['0', '9739'], ['0', '9740'], ['1', '9741'], ['1', '9742'], ['0', '9743'], ['1', '9744'], ['1', '9745'], ['0', '9746'], ['1', '9747'], ['0', '9748'], ['0', '9749'], ['0', '9750'], ['0', '9751'], ['0', '9752'], ['0', '9753'], ['0', '9754'], ['0', '9755'], ['1', '9756'], ['1', '9757'], ['1', '9758'], ['0', '9759'], ['0', '9760'], ['1', '9761'], ['0', '9762'], ['0', '9763'], ['0', '9764'], ['0', '9765'], ['1', '9766'], ['1', '9767'], ['0', '9768'], ['0', '9769'], ['0', '9770'], ['1', '9771'], ['0', '9772'], ['0', '9773'], ['1', '9774'], ['0', '9775'], ['0', '9776'], ['0', '9777'], ['1', '9778'], ['0', '9779'], ['0', '9780'], ['0', '9781'], ['0', '9782'], ['0', '9783'], ['1', '9784'], ['0', '9785'], ['0', '9786'], ['0', '9787'], ['1', '9788'], ['1', '9789'], ['0', '9790'], ['0', '9791'], ['0', '9792'], ['0', '9793'], ['0', '9794'], ['0', '9795'], ['0', '9796'], ['1', '9797'], ['0', '9798'], ['0', '9799'], ['0', '9800'], ['0', '9801'], ['1', '9802'], ['1', '9803'], ['1', '9804'], ['0', '9805'], ['0', '9806'], ['0', '9807'], ['1', '9808'], ['1', '9809'], ['0', '9810'], ['1', '9811'], ['0', '9812'], ['1', '9813'], ['1', '9814'], ['0', '9815'], ['0', '9816'], ['0', '9817'], ['0', '9818'], ['1', '9819'], ['0', '9820'], ['0', '9821'], ['0', '9822'], ['0', '9823'], ['0', '9824'], ['1', '9825'], ['1', '9826'], ['0', '9827'], ['0', '9828'], ['0', '9829'], ['1', '9830'], ['0', '9831'], ['0', '9832'], ['0', '9833'], ['0', '9834'], ['0', '9835'], ['0', '9836'], ['1', '9837'], ['1', '9838'], ['1', '9839'], ['1', '9840'], ['1', '9841'], ['0', '9842'], ['0', '9843'], ['0', '9844'], ['0', '9845'], ['0', '9846'], ['0', '9847'], ['1', '9848'], ['0', '9849'], ['0', '9850'], ['1', '9851'], ['1', '9852'], ['0', '9853'], ['0', '9854'], ['0', '9855'], ['0', '9856'], ['0', '9857'], ['0', '9858'], ['0', '9859'], ['0', '9860'], ['0', '9861'], ['0', '9862'], ['0', '9863'], ['0', '9864'], ['0', '9865'], ['0', '9866'], ['0', '9867'], ['0', '9868'], ['0', '9869'], ['0', '9870'], ['0', '9871'], ['1', '9872'], ['0', '9873']]\n"
          ],
          "name": "stdout"
        }
      ]
    },
    {
      "cell_type": "markdown",
      "metadata": {
        "colab_type": "text",
        "id": "yvNCTYn3GB-2"
      },
      "source": [
        "**Results**\n",
        "\n",
        "We trained our network on 140.000 samples (120.000 training and 20.000 validation samples) and used the word embedding vectors obtained by ConceptNet. Unfortunately, due to hardware limitations, this is less than a 10th of the available training data. However, as we tested the model with multiple random subsets of the 1.6M samples we achieved accuracies in-between 78%-82%, and therefore perform as good as several state-of-the-art approaches [Go et al.](https://cs.stanford.edu/people/alecmgo/papers/TwitterDistantSupervision09.pdf), [Ebert et al.](https://www.aclweb.org/anthology/W15-2915). Accuracy and loss improve until epoch 6-10 and more or less stagnate until epoch 20."
      ]
    }
  ]
}